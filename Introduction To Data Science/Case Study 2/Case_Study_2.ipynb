{
 "cells": [
  {
   "cell_type": "markdown",
   "id": "fa90d0f1",
   "metadata": {},
   "source": [
    "\n",
    "For this case study, you will perform a classification task on a WiFi dataset, and also explore the question, \"Is more data useful for a classification task?\"\n",
    "\n",
    "The dataset you will use can be found on: https://archive.ics.uci.edu/ml/datasets/ujiindoorloc .\n",
    "\n",
    "**\\[Step 1\\]** Once you examine the data sets, you will find that there is a training set and a validation set. You can use them to build your classification model. You might need to determine what are your features and targets. You can also do some engineering on features and targets if necessary.\n",
    "\n",
    "**\\[Step 2\\]** But, which algorithm should you use with your model? You can refer to the scikit-learn cheat sheet: https://scikit-learn.org/stable/tutorial/machine_learning_map/index.html, and try three algorithms. Some suggestions are: LinearSVC, Logistic Regression, KNN classifier, SVC, Random Forest (as an example of Ensemble Learning) etc. Perform one experiment using each and observe the performance of each model. Note which is the best performing model.\n",
    "\n",
    "**\\[Step 3\\]** Once the previous step is done, observe if more data is useful for a classification task using the best performing model from the previous step. For this, randomly select 20% of the training samples, but keep the size of the validation set the same. Note the performance. Then also try with 40%, 60%, 80% and 100% of the training samples. Perform three experiments for each selection. This means, for 20% you will do three experiments, 40% three experiments etc. Find the average of three experiments for each selection and plot them using a chart of your choice.\n",
    "\n",
    "**\\[Step 4\\]** Publish your finding in presentation slides. Like case study 1, three of you will be randomly chosen to present your work in front of the class. The slides should inform the audience about:\n",
    "\n",
    "* the objective of the case study\n",
    "* the data (features and targets)\n",
    "* things you have done (e.g. why you selected a specific classification model)\n",
    "* your findings.\n",
    "\n",
    "\n",
    "**Things to note**:\n",
    "\n",
    "* **Type of task**: classification\n",
    "* **Features**: you choose.\n",
    "* **Feature engineering**: You are welcome to do so.\n",
    "* **Target**: Use a combination of features to learn from and identify the location. Ignore the SPACEID column.\n",
    "\n",
    "* In some cases, Normalization may result in reduced accuracy.\n",
    "* You must write enough comments so that anybody with some programming knowledge can understand your code.\n",
    "\n",
    "**Grading Criteria**:\n",
    "\n",
    "* [15 + 15] Data set preparation: Choosing your $X$ and $y$. Feature Engineering.\n",
    "* [15 + 15 + 15] Three experiments using three algorithms.  \n",
    "* [15] Observing the effects of more data using five sets of random samples of different sizes from the training set. \n",
    "* [10] Presentation slides\n",
    "\n",
    "**What to submit**:\n",
    "\n",
    "Put the Jupyter Notebook file and the .csv file in a folder. Then convert your presentation slides in to a PDF file and put it in the same folder. Zip the folder. After zipping, it should have the extension .zip. The name of the .zip file should be firstname_lastname_casestudy_1.zip . Upload the .zip file on Canvas."
   ]
  },
  {
   "cell_type": "markdown",
   "id": "00f46ef5",
   "metadata": {},
   "source": [
    "# Step 1: Data Exploration and Feature Engineering"
   ]
  },
  {
   "cell_type": "code",
   "execution_count": 186,
   "id": "42b2b753",
   "metadata": {},
   "outputs": [],
   "source": [
    "#Import all necessary libraries for the study\n",
    "import numpy as np\n",
    "import pandas as pd\n",
    "from sklearn import model_selection, linear_model, feature_selection, metrics\n",
    "from datetime import datetime\n",
    "from sklearn import preprocessing"
   ]
  },
  {
   "cell_type": "code",
   "execution_count": 187,
   "id": "0ddef234",
   "metadata": {},
   "outputs": [
    {
     "data": {
      "text/html": [
       "<div>\n",
       "<style scoped>\n",
       "    .dataframe tbody tr th:only-of-type {\n",
       "        vertical-align: middle;\n",
       "    }\n",
       "\n",
       "    .dataframe tbody tr th {\n",
       "        vertical-align: top;\n",
       "    }\n",
       "\n",
       "    .dataframe thead th {\n",
       "        text-align: right;\n",
       "    }\n",
       "</style>\n",
       "<table border=\"1\" class=\"dataframe\">\n",
       "  <thead>\n",
       "    <tr style=\"text-align: right;\">\n",
       "      <th></th>\n",
       "      <th>WAP001</th>\n",
       "      <th>WAP002</th>\n",
       "      <th>WAP003</th>\n",
       "      <th>WAP004</th>\n",
       "      <th>WAP005</th>\n",
       "      <th>WAP006</th>\n",
       "      <th>WAP007</th>\n",
       "      <th>WAP008</th>\n",
       "      <th>WAP009</th>\n",
       "      <th>WAP010</th>\n",
       "      <th>...</th>\n",
       "      <th>WAP520</th>\n",
       "      <th>LONGITUDE</th>\n",
       "      <th>LATITUDE</th>\n",
       "      <th>FLOOR</th>\n",
       "      <th>BUILDINGID</th>\n",
       "      <th>SPACEID</th>\n",
       "      <th>RELATIVEPOSITION</th>\n",
       "      <th>USERID</th>\n",
       "      <th>PHONEID</th>\n",
       "      <th>TIMESTAMP</th>\n",
       "    </tr>\n",
       "  </thead>\n",
       "  <tbody>\n",
       "    <tr>\n",
       "      <th>0</th>\n",
       "      <td>100</td>\n",
       "      <td>100</td>\n",
       "      <td>100</td>\n",
       "      <td>100</td>\n",
       "      <td>100</td>\n",
       "      <td>100</td>\n",
       "      <td>100</td>\n",
       "      <td>100</td>\n",
       "      <td>100</td>\n",
       "      <td>100</td>\n",
       "      <td>...</td>\n",
       "      <td>100</td>\n",
       "      <td>-7541.264300</td>\n",
       "      <td>4.864921e+06</td>\n",
       "      <td>2</td>\n",
       "      <td>1</td>\n",
       "      <td>106</td>\n",
       "      <td>2</td>\n",
       "      <td>2</td>\n",
       "      <td>23</td>\n",
       "      <td>1371713733</td>\n",
       "    </tr>\n",
       "    <tr>\n",
       "      <th>1</th>\n",
       "      <td>100</td>\n",
       "      <td>100</td>\n",
       "      <td>100</td>\n",
       "      <td>100</td>\n",
       "      <td>100</td>\n",
       "      <td>100</td>\n",
       "      <td>100</td>\n",
       "      <td>100</td>\n",
       "      <td>100</td>\n",
       "      <td>100</td>\n",
       "      <td>...</td>\n",
       "      <td>100</td>\n",
       "      <td>-7536.621200</td>\n",
       "      <td>4.864934e+06</td>\n",
       "      <td>2</td>\n",
       "      <td>1</td>\n",
       "      <td>106</td>\n",
       "      <td>2</td>\n",
       "      <td>2</td>\n",
       "      <td>23</td>\n",
       "      <td>1371713691</td>\n",
       "    </tr>\n",
       "    <tr>\n",
       "      <th>2</th>\n",
       "      <td>100</td>\n",
       "      <td>100</td>\n",
       "      <td>100</td>\n",
       "      <td>100</td>\n",
       "      <td>100</td>\n",
       "      <td>100</td>\n",
       "      <td>100</td>\n",
       "      <td>-97</td>\n",
       "      <td>100</td>\n",
       "      <td>100</td>\n",
       "      <td>...</td>\n",
       "      <td>100</td>\n",
       "      <td>-7519.152400</td>\n",
       "      <td>4.864950e+06</td>\n",
       "      <td>2</td>\n",
       "      <td>1</td>\n",
       "      <td>103</td>\n",
       "      <td>2</td>\n",
       "      <td>2</td>\n",
       "      <td>23</td>\n",
       "      <td>1371714095</td>\n",
       "    </tr>\n",
       "    <tr>\n",
       "      <th>3</th>\n",
       "      <td>100</td>\n",
       "      <td>100</td>\n",
       "      <td>100</td>\n",
       "      <td>100</td>\n",
       "      <td>100</td>\n",
       "      <td>100</td>\n",
       "      <td>100</td>\n",
       "      <td>100</td>\n",
       "      <td>100</td>\n",
       "      <td>100</td>\n",
       "      <td>...</td>\n",
       "      <td>100</td>\n",
       "      <td>-7524.570400</td>\n",
       "      <td>4.864934e+06</td>\n",
       "      <td>2</td>\n",
       "      <td>1</td>\n",
       "      <td>102</td>\n",
       "      <td>2</td>\n",
       "      <td>2</td>\n",
       "      <td>23</td>\n",
       "      <td>1371713807</td>\n",
       "    </tr>\n",
       "    <tr>\n",
       "      <th>4</th>\n",
       "      <td>100</td>\n",
       "      <td>100</td>\n",
       "      <td>100</td>\n",
       "      <td>100</td>\n",
       "      <td>100</td>\n",
       "      <td>100</td>\n",
       "      <td>100</td>\n",
       "      <td>100</td>\n",
       "      <td>100</td>\n",
       "      <td>100</td>\n",
       "      <td>...</td>\n",
       "      <td>100</td>\n",
       "      <td>-7632.143600</td>\n",
       "      <td>4.864982e+06</td>\n",
       "      <td>0</td>\n",
       "      <td>0</td>\n",
       "      <td>122</td>\n",
       "      <td>2</td>\n",
       "      <td>11</td>\n",
       "      <td>13</td>\n",
       "      <td>1369909710</td>\n",
       "    </tr>\n",
       "    <tr>\n",
       "      <th>5</th>\n",
       "      <td>100</td>\n",
       "      <td>100</td>\n",
       "      <td>100</td>\n",
       "      <td>100</td>\n",
       "      <td>100</td>\n",
       "      <td>100</td>\n",
       "      <td>100</td>\n",
       "      <td>100</td>\n",
       "      <td>100</td>\n",
       "      <td>100</td>\n",
       "      <td>...</td>\n",
       "      <td>100</td>\n",
       "      <td>-7533.896200</td>\n",
       "      <td>4.864939e+06</td>\n",
       "      <td>2</td>\n",
       "      <td>1</td>\n",
       "      <td>105</td>\n",
       "      <td>2</td>\n",
       "      <td>2</td>\n",
       "      <td>23</td>\n",
       "      <td>1371713841</td>\n",
       "    </tr>\n",
       "    <tr>\n",
       "      <th>6</th>\n",
       "      <td>100</td>\n",
       "      <td>100</td>\n",
       "      <td>100</td>\n",
       "      <td>100</td>\n",
       "      <td>100</td>\n",
       "      <td>100</td>\n",
       "      <td>100</td>\n",
       "      <td>100</td>\n",
       "      <td>100</td>\n",
       "      <td>100</td>\n",
       "      <td>...</td>\n",
       "      <td>100</td>\n",
       "      <td>-7519.152400</td>\n",
       "      <td>4.864950e+06</td>\n",
       "      <td>2</td>\n",
       "      <td>1</td>\n",
       "      <td>103</td>\n",
       "      <td>2</td>\n",
       "      <td>2</td>\n",
       "      <td>23</td>\n",
       "      <td>1371713883</td>\n",
       "    </tr>\n",
       "    <tr>\n",
       "      <th>7</th>\n",
       "      <td>100</td>\n",
       "      <td>100</td>\n",
       "      <td>100</td>\n",
       "      <td>100</td>\n",
       "      <td>100</td>\n",
       "      <td>100</td>\n",
       "      <td>100</td>\n",
       "      <td>100</td>\n",
       "      <td>100</td>\n",
       "      <td>100</td>\n",
       "      <td>...</td>\n",
       "      <td>100</td>\n",
       "      <td>-7527.451100</td>\n",
       "      <td>4.864929e+06</td>\n",
       "      <td>2</td>\n",
       "      <td>1</td>\n",
       "      <td>101</td>\n",
       "      <td>2</td>\n",
       "      <td>2</td>\n",
       "      <td>23</td>\n",
       "      <td>1371713775</td>\n",
       "    </tr>\n",
       "    <tr>\n",
       "      <th>8</th>\n",
       "      <td>100</td>\n",
       "      <td>100</td>\n",
       "      <td>100</td>\n",
       "      <td>100</td>\n",
       "      <td>100</td>\n",
       "      <td>100</td>\n",
       "      <td>100</td>\n",
       "      <td>100</td>\n",
       "      <td>100</td>\n",
       "      <td>100</td>\n",
       "      <td>...</td>\n",
       "      <td>100</td>\n",
       "      <td>-7559.497300</td>\n",
       "      <td>4.864888e+06</td>\n",
       "      <td>2</td>\n",
       "      <td>1</td>\n",
       "      <td>112</td>\n",
       "      <td>2</td>\n",
       "      <td>2</td>\n",
       "      <td>23</td>\n",
       "      <td>1371714307</td>\n",
       "    </tr>\n",
       "    <tr>\n",
       "      <th>9</th>\n",
       "      <td>100</td>\n",
       "      <td>100</td>\n",
       "      <td>100</td>\n",
       "      <td>100</td>\n",
       "      <td>100</td>\n",
       "      <td>100</td>\n",
       "      <td>100</td>\n",
       "      <td>100</td>\n",
       "      <td>100</td>\n",
       "      <td>100</td>\n",
       "      <td>...</td>\n",
       "      <td>100</td>\n",
       "      <td>-7510.437173</td>\n",
       "      <td>4.864949e+06</td>\n",
       "      <td>2</td>\n",
       "      <td>1</td>\n",
       "      <td>103</td>\n",
       "      <td>1</td>\n",
       "      <td>2</td>\n",
       "      <td>23</td>\n",
       "      <td>1371714128</td>\n",
       "    </tr>\n",
       "  </tbody>\n",
       "</table>\n",
       "<p>10 rows × 529 columns</p>\n",
       "</div>"
      ],
      "text/plain": [
       "   WAP001  WAP002  WAP003  WAP004  WAP005  WAP006  WAP007  WAP008  WAP009  \\\n",
       "0     100     100     100     100     100     100     100     100     100   \n",
       "1     100     100     100     100     100     100     100     100     100   \n",
       "2     100     100     100     100     100     100     100     -97     100   \n",
       "3     100     100     100     100     100     100     100     100     100   \n",
       "4     100     100     100     100     100     100     100     100     100   \n",
       "5     100     100     100     100     100     100     100     100     100   \n",
       "6     100     100     100     100     100     100     100     100     100   \n",
       "7     100     100     100     100     100     100     100     100     100   \n",
       "8     100     100     100     100     100     100     100     100     100   \n",
       "9     100     100     100     100     100     100     100     100     100   \n",
       "\n",
       "   WAP010  ...  WAP520    LONGITUDE      LATITUDE  FLOOR  BUILDINGID  SPACEID  \\\n",
       "0     100  ...     100 -7541.264300  4.864921e+06      2           1      106   \n",
       "1     100  ...     100 -7536.621200  4.864934e+06      2           1      106   \n",
       "2     100  ...     100 -7519.152400  4.864950e+06      2           1      103   \n",
       "3     100  ...     100 -7524.570400  4.864934e+06      2           1      102   \n",
       "4     100  ...     100 -7632.143600  4.864982e+06      0           0      122   \n",
       "5     100  ...     100 -7533.896200  4.864939e+06      2           1      105   \n",
       "6     100  ...     100 -7519.152400  4.864950e+06      2           1      103   \n",
       "7     100  ...     100 -7527.451100  4.864929e+06      2           1      101   \n",
       "8     100  ...     100 -7559.497300  4.864888e+06      2           1      112   \n",
       "9     100  ...     100 -7510.437173  4.864949e+06      2           1      103   \n",
       "\n",
       "   RELATIVEPOSITION  USERID  PHONEID   TIMESTAMP  \n",
       "0                 2       2       23  1371713733  \n",
       "1                 2       2       23  1371713691  \n",
       "2                 2       2       23  1371714095  \n",
       "3                 2       2       23  1371713807  \n",
       "4                 2      11       13  1369909710  \n",
       "5                 2       2       23  1371713841  \n",
       "6                 2       2       23  1371713883  \n",
       "7                 2       2       23  1371713775  \n",
       "8                 2       2       23  1371714307  \n",
       "9                 1       2       23  1371714128  \n",
       "\n",
       "[10 rows x 529 columns]"
      ]
     },
     "execution_count": 187,
     "metadata": {},
     "output_type": "execute_result"
    }
   ],
   "source": [
    "#Read dataframe into jupyter and display the first 10 rows\n",
    "df = pd.read_csv(\"trainingData.csv\")\n",
    "df.head(10)"
   ]
  },
  {
   "cell_type": "code",
   "execution_count": 188,
   "id": "e4eb8609",
   "metadata": {},
   "outputs": [
    {
     "data": {
      "text/plain": [
       "False"
      ]
     },
     "execution_count": 188,
     "metadata": {},
     "output_type": "execute_result"
    }
   ],
   "source": [
    "#Check for missing values (There are none)\n",
    "df.isnull().values.any()"
   ]
  },
  {
   "cell_type": "code",
   "execution_count": 189,
   "id": "6056e27e",
   "metadata": {},
   "outputs": [
    {
     "name": "stdout",
     "output_type": "stream",
     "text": [
      "<class 'pandas.core.frame.DataFrame'>\n",
      "RangeIndex: 19937 entries, 0 to 19936\n",
      "Columns: 529 entries, WAP001 to TIMESTAMP\n",
      "dtypes: float64(2), int64(527)\n",
      "memory usage: 80.5 MB\n"
     ]
    }
   ],
   "source": [
    "#Check the information associated with the data frame\n",
    "df.info()"
   ]
  },
  {
   "cell_type": "code",
   "execution_count": 190,
   "id": "5627b717",
   "metadata": {},
   "outputs": [
    {
     "data": {
      "text/plain": [
       "0       11\n",
       "1       24\n",
       "2       24\n",
       "3       24\n",
       "4        2\n",
       "        ..\n",
       "1106    23\n",
       "1107    23\n",
       "1108     0\n",
       "1109     0\n",
       "1110     0\n",
       "Name: Building_Code, Length: 1111, dtype: int64"
      ]
     },
     "execution_count": 190,
     "metadata": {},
     "output_type": "execute_result"
    }
   ],
   "source": [
    "#The most useful way to classify location is by using the buildingID and floor. However we can only have one y value so they have \n",
    "#to be combined. I turned the columns into strings so that the numbers can be concatenated into a single number called building\n",
    "#code. The first number represents the buildingID while the second represents the floor. \n",
    "df['BUILDINGID'] = df['BUILDINGID'].apply(str)\n",
    "df['FLOOR'] = df['FLOOR'].apply(str)\n",
    "df['Building_Code'] = df['BUILDINGID'] + df['FLOOR']\n",
    "df['Building_Code'] = df['Building_Code'].apply(int)\n",
    "df['Building_Code']\n",
    "\n",
    "#Load up the validation dataset\n",
    "val_df = pd.read_csv(\"validationData.csv\")\n",
    "\n",
    "# Do the same thing for the validation dataset and add the building code\n",
    "val_df['BUILDINGID'] = val_df['BUILDINGID'].apply(str)\n",
    "val_df['FLOOR'] = val_df['FLOOR'].apply(str)\n",
    "val_df['Building_Code'] = val_df['BUILDINGID'] + val_df['FLOOR']\n",
    "val_df['Building_Code'] = val_df['Building_Code'].apply(int)\n",
    "val_df['Building_Code']"
   ]
  },
  {
   "cell_type": "code",
   "execution_count": 191,
   "id": "50c69bd2",
   "metadata": {},
   "outputs": [
    {
     "data": {
      "text/plain": [
       "23    2709\n",
       "21    2162\n",
       "20    1942\n",
       "22    1577\n",
       "11    1484\n",
       "2     1443\n",
       "12    1396\n",
       "3     1391\n",
       "10    1368\n",
       "1     1356\n",
       "24    1102\n",
       "0     1059\n",
       "13     948\n",
       "Name: Building_Code, dtype: int64"
      ]
     },
     "execution_count": 191,
     "metadata": {},
     "output_type": "execute_result"
    }
   ],
   "source": [
    "#I did this to check to make sure that by concatenating the two columns the new building code does not have 3 values\n",
    "# which would throw off the prediction accuracy (and be hard for us humans to interpret as we would have no way of knowing\n",
    "# which part is the buildingID and which is the floorID). Three building codes have only one value, I assume that the \n",
    "# buildingID was zero and python removed the zero. I decided to go ahead with this method as the context of the location is \n",
    "# not lost by the removed zero and I dont expect the prediction algorithms to misclassify. \n",
    "# I should still be able to predict and interpret the correct location with this building code knowing that 2 just means\n",
    "# buildingID = 0 and FloorID = 2.\n",
    "df['Building_Code'].value_counts()"
   ]
  },
  {
   "cell_type": "code",
   "execution_count": 192,
   "id": "eb635840",
   "metadata": {},
   "outputs": [
    {
     "data": {
      "text/plain": [
       "16"
      ]
     },
     "execution_count": 192,
     "metadata": {},
     "output_type": "execute_result"
    }
   ],
   "source": [
    "# Check if there are distinct phone ID groups. There are 16 distinct phoneID groups\n",
    "df.groupby(['PHONEID']).ngroups"
   ]
  },
  {
   "cell_type": "code",
   "execution_count": 193,
   "id": "eb0e00be",
   "metadata": {},
   "outputs": [
    {
     "data": {
      "text/plain": [
       "18"
      ]
     },
     "execution_count": 193,
     "metadata": {},
     "output_type": "execute_result"
    }
   ],
   "source": [
    "#And 18 distinct userID groups\n",
    "df.groupby(['USERID']).ngroups"
   ]
  },
  {
   "cell_type": "code",
   "execution_count": 194,
   "id": "71753238",
   "metadata": {},
   "outputs": [],
   "source": [
    "# You would think that there is a connection between phoneID and userID but there are different numbers of groups in the\n",
    "# columns. Might bet worth trying different combinations of these columns."
   ]
  },
  {
   "cell_type": "code",
   "execution_count": 195,
   "id": "e2a99c4b",
   "metadata": {
    "scrolled": true
   },
   "outputs": [
    {
     "data": {
      "text/plain": [
       "0       2013-06-20 07:35:33\n",
       "1       2013-06-20 07:34:51\n",
       "2       2013-06-20 07:41:35\n",
       "3       2013-06-20 07:36:47\n",
       "4       2013-05-30 10:28:30\n",
       "                ...        \n",
       "19932   2013-06-20 06:44:43\n",
       "19933   2013-06-20 06:40:02\n",
       "19934   2013-06-20 06:48:41\n",
       "19935   2013-06-20 06:50:49\n",
       "19936   2013-06-20 06:50:25\n",
       "Name: Converted_Time, Length: 19937, dtype: datetime64[ns]"
      ]
     },
     "execution_count": 195,
     "metadata": {},
     "output_type": "execute_result"
    }
   ],
   "source": [
    "#Time may be independent of location but if the people connecting to the different access points are moving in certain \n",
    "#patterns it might be a useful metric to include. Coverted to year-month-day format so that humans can read it (cant\n",
    "#actually use this but was just curious how about this feature). #Data taken over about a 45 min interval. \n",
    "df['TIMESTAMP'].sort_values()\n",
    "df['Converted_Time'] = pd.to_datetime(df['TIMESTAMP'], unit = 's')\n",
    "df['Converted_Time']"
   ]
  },
  {
   "cell_type": "code",
   "execution_count": 196,
   "id": "8b7094d5",
   "metadata": {},
   "outputs": [],
   "source": [
    "# For x values to be tested longitude, latitude, and spaceID were removed from early consideration because they are similar\n",
    "# to the y value in terms of our goal and didn't add to the accuracy.\n",
    "# I attempted to use TIMESTAMP as part of my model but the accuracy fell with its inclusion so it was removed from\n",
    "# consideration. The large values of unix time likely threw off it off.\n",
    "#Finally, the columns for relative position, userID, and phoneId while I hoped would add to the accuracy in fact caused it\n",
    "#to fall when tested. This resulted in the columns for WAP001 to WAP520 to be chosen as the predictor columns. "
   ]
  },
  {
   "cell_type": "markdown",
   "id": "efded4af",
   "metadata": {},
   "source": [
    "# Step 2 - Apply Algorithms to the training set and see how they perform on the validation set"
   ]
  },
  {
   "cell_type": "code",
   "execution_count": 197,
   "id": "89527477",
   "metadata": {},
   "outputs": [],
   "source": [
    "#Assign connection data for test dataframe and validation dataframe to a variable\n",
    "connectionData = df.iloc[:,0:520]\n",
    "valConnectionData = val_df.iloc[:,0:520]"
   ]
  },
  {
   "cell_type": "code",
   "execution_count": 198,
   "id": "90d4f45f",
   "metadata": {},
   "outputs": [],
   "source": [
    "#Use all the samples from the training and validation data (no splitting of datasets)\n",
    "\n",
    "#Create preprocessing object for max abs scaler\n",
    "max_abs_scaler = preprocessing.MaxAbsScaler()\n",
    "\n",
    "# Fit and transform the predictor columns for training and validation datasets\n",
    "xtrain_maxabs = max_abs_scaler.fit_transform(connectionData)\n",
    "xval_maxabs = max_abs_scaler.fit_transform(valConnectionData)\n",
    "\n",
    "#Select out response columns from data frames\n",
    "y = df['Building_Code']\n",
    "\n",
    "val_y = val_df['Building_Code']\n",
    "\n",
    "#Note from unscaled (not normailized) vs scaled (normalized) tests:\n",
    "#Unscaled dataframes performed overall better than the scaled dataframes with an F-1 score usually a few hundredths of a point higher\n",
    "#higher. However, the unscaled dataframes for most of my classifiers still mostly missed the 0.8 F-1 mark that I am looking \n",
    "#for. Random Forest performed the best and was similar (had the same F-1 score) in scaled and unscaled tests \n",
    "# in terms of accuracy there was no change in accuracy until the 6th decimal place where scaled was better so they were comparable in that respect.\n",
    "#I continued using scaled data throughout the subsequent experiments (and in the shown experiments) since there was no real\n",
    "#difference in accuracy for the classifier I chose to use in step 3 (since I cant use the others due to low accuracy)\n",
    "#and it came down to personal preference. "
   ]
  },
  {
   "cell_type": "markdown",
   "id": "6055076f",
   "metadata": {},
   "source": [
    "## 1. Linear SVC"
   ]
  },
  {
   "cell_type": "code",
   "execution_count": 199,
   "id": "79eb5cf0",
   "metadata": {},
   "outputs": [],
   "source": [
    "#Import important libraries\n",
    "from sklearn.svm import LinearSVC\n",
    "from sklearn.datasets import load_iris\n",
    "from sklearn.datasets import make_classification\n",
    "from sklearn.model_selection import train_test_split\n",
    "from sklearn.model_selection import cross_val_score\n",
    "from sklearn.metrics import classification_report"
   ]
  },
  {
   "cell_type": "code",
   "execution_count": 200,
   "id": "d72234f6",
   "metadata": {},
   "outputs": [
    {
     "data": {
      "text/plain": [
       "LinearSVC()"
      ]
     },
     "execution_count": 200,
     "metadata": {},
     "output_type": "execute_result"
    }
   ],
   "source": [
    "#Define the classifier. Use default parameters for the class\n",
    "lsvc = LinearSVC(verbose = 0)\n",
    "\n",
    "LinearSVC(C=1.0, class_weight=None, dual=True, fit_intercept=True,\n",
    "          intercept_scaling=1, loss='squared_hinge', max_iter=1000,\n",
    "          multi_class='ovr', penalty='l2', random_state=None, tol=0.0001,\n",
    "          verbose=0)"
   ]
  },
  {
   "cell_type": "code",
   "execution_count": 201,
   "id": "5919f08a",
   "metadata": {},
   "outputs": [
    {
     "name": "stdout",
     "output_type": "stream",
     "text": [
      "Score:  0.9276220093293875\n"
     ]
    },
    {
     "name": "stderr",
     "output_type": "stream",
     "text": [
      "C:\\Users\\joshu\\anaconda3\\lib\\site-packages\\sklearn\\svm\\_base.py:985: ConvergenceWarning: Liblinear failed to converge, increase the number of iterations.\n",
      "  warnings.warn(\"Liblinear failed to converge, increase \"\n"
     ]
    }
   ],
   "source": [
    "#Fit the model on the training data and check the accuracy score\n",
    "lsvc.fit(xtrain_maxabs, y)\n",
    "score = lsvc.score(connectionData, y)\n",
    "print(\"Score: \", score)"
   ]
  },
  {
   "cell_type": "code",
   "execution_count": 202,
   "id": "687648e9",
   "metadata": {},
   "outputs": [
    {
     "name": "stdout",
     "output_type": "stream",
     "text": [
      "              precision    recall  f1-score   support\n",
      "\n",
      "           0       0.91      0.62      0.73        78\n",
      "           1       0.74      0.80      0.77       208\n",
      "           2       0.73      0.70      0.71       165\n",
      "           3       0.81      0.79      0.80        85\n",
      "          10       0.53      0.70      0.60        30\n",
      "          11       0.85      0.61      0.71       143\n",
      "          12       0.64      0.67      0.65        87\n",
      "          13       0.61      0.85      0.71        47\n",
      "          20       0.59      0.83      0.69        24\n",
      "          21       0.77      0.87      0.82       111\n",
      "          22       0.74      0.31      0.44        54\n",
      "          23       0.40      0.95      0.57        40\n",
      "          24       0.95      0.46      0.62        39\n",
      "\n",
      "    accuracy                           0.71      1111\n",
      "   macro avg       0.71      0.70      0.68      1111\n",
      "weighted avg       0.75      0.71      0.71      1111\n",
      "\n"
     ]
    }
   ],
   "source": [
    "#Now to see how well it predicts y from the validation set. \n",
    "#Create a y prediction variable and load up a classification report.\n",
    "yprediction = lsvc.predict(xval_maxabs)\n",
    "\n",
    "cr = classification_report(val_y, yprediction)\n",
    "print(cr)"
   ]
  },
  {
   "cell_type": "code",
   "execution_count": 203,
   "id": "512c9a8f",
   "metadata": {},
   "outputs": [],
   "source": [
    "# On the unscaled data:\n",
    "# Accuracy Score (Training Data): 0.8497767969102673\n",
    "# # F-1 Score Acccuracy: 0.66"
   ]
  },
  {
   "cell_type": "markdown",
   "id": "7277abc5",
   "metadata": {},
   "source": [
    "## 2. Logistic Regression"
   ]
  },
  {
   "cell_type": "code",
   "execution_count": 204,
   "id": "c1ba9349",
   "metadata": {},
   "outputs": [
    {
     "name": "stdout",
     "output_type": "stream",
     "text": [
      "Score:  0.9655916135827858\n"
     ]
    }
   ],
   "source": [
    "#Import the libraries \n",
    "from sklearn.linear_model import LogisticRegression\n",
    "\n",
    "#instantiate the model\n",
    "logregression = LogisticRegression(max_iter=10000)\n",
    "\n",
    "#Fit the model\n",
    "logregression.fit(xtrain_maxabs, y)\n",
    "\n",
    "#Print accuracy score\n",
    "log_score = logregression.score(xtrain_maxabs, y)\n",
    "print(\"Score: \", log_score)"
   ]
  },
  {
   "cell_type": "code",
   "execution_count": 205,
   "id": "2c526c0c",
   "metadata": {},
   "outputs": [
    {
     "name": "stdout",
     "output_type": "stream",
     "text": [
      "              precision    recall  f1-score   support\n",
      "\n",
      "           0       0.87      0.77      0.82        78\n",
      "           1       0.89      0.82      0.85       208\n",
      "           2       0.73      0.81      0.77       165\n",
      "           3       0.76      0.80      0.78        85\n",
      "          10       0.48      0.73      0.58        30\n",
      "          11       0.95      0.60      0.74       143\n",
      "          12       0.62      0.78      0.69        87\n",
      "          13       0.64      0.81      0.72        47\n",
      "          20       0.79      0.92      0.85        24\n",
      "          21       0.88      0.93      0.90       111\n",
      "          22       0.92      0.61      0.73        54\n",
      "          23       0.58      0.97      0.73        40\n",
      "          24       0.96      0.56      0.71        39\n",
      "\n",
      "    accuracy                           0.78      1111\n",
      "   macro avg       0.77      0.78      0.76      1111\n",
      "weighted avg       0.81      0.78      0.78      1111\n",
      "\n"
     ]
    }
   ],
   "source": [
    "#Now to see how well it predicts y from the validation set. \n",
    "#Create a y prediction variable and load up a classification report.\n",
    "logYPrediction = logregression.predict(xval_maxabs)\n",
    "\n",
    "cr = classification_report(val_y, logYPrediction)\n",
    "print(cr)"
   ]
  },
  {
   "cell_type": "code",
   "execution_count": 206,
   "id": "f6cc264a",
   "metadata": {},
   "outputs": [],
   "source": [
    "# On the unscaled data logistic regression takes a super long time to run so the important bits that are found are recorded\n",
    "# here so I don't have to keep running every single time I want to check:\n",
    "# Accuracy Score (Training Data): 0.9715102573105282\n",
    "# # F-1 Score Acccuracy: 0.73"
   ]
  },
  {
   "cell_type": "markdown",
   "id": "b35a183f",
   "metadata": {},
   "source": [
    "## 3. Random Forest"
   ]
  },
  {
   "cell_type": "code",
   "execution_count": 207,
   "id": "8cdc21ec",
   "metadata": {},
   "outputs": [
    {
     "name": "stdout",
     "output_type": "stream",
     "text": [
      "Score:  0.9967898881476651\n"
     ]
    }
   ],
   "source": [
    "#Import the libraries\n",
    "from sklearn.ensemble import RandomForestClassifier\n",
    "from sklearn import metrics\n",
    "\n",
    "#Create a classifier\n",
    "clf=RandomForestClassifier(n_estimators=6)\n",
    "\n",
    "#Train the model and set up the y prediction variable\n",
    "clf.fit(xtrain_maxabs, y)\n",
    "\n",
    "#Print accuracy score\n",
    "rf_score = clf.score(xtrain_maxabs, y)\n",
    "print(\"Score: \", rf_score)"
   ]
  },
  {
   "cell_type": "code",
   "execution_count": 208,
   "id": "9e37eb44",
   "metadata": {
    "scrolled": false
   },
   "outputs": [
    {
     "name": "stdout",
     "output_type": "stream",
     "text": [
      "              precision    recall  f1-score   support\n",
      "\n",
      "           0       0.73      0.92      0.82        78\n",
      "           1       0.94      0.82      0.88       208\n",
      "           2       0.86      0.92      0.89       165\n",
      "           3       0.92      0.86      0.89        85\n",
      "          10       0.50      0.67      0.57        30\n",
      "          11       0.94      0.58      0.72       143\n",
      "          12       0.61      0.82      0.70        87\n",
      "          13       0.63      0.83      0.72        47\n",
      "          20       0.71      0.83      0.77        24\n",
      "          21       0.83      0.83      0.83       111\n",
      "          22       0.66      0.54      0.59        54\n",
      "          23       0.60      0.85      0.70        40\n",
      "          24       0.90      0.67      0.76        39\n",
      "\n",
      "    accuracy                           0.79      1111\n",
      "   macro avg       0.76      0.78      0.76      1111\n",
      "weighted avg       0.82      0.79      0.79      1111\n",
      "\n"
     ]
    }
   ],
   "source": [
    "#Now test the validation set on the fitted model\n",
    "rfYPrediction = clf.predict(xval_maxabs)\n",
    "\n",
    "#Show F-1 score\n",
    "cr = classification_report(val_y, rfYPrediction)\n",
    "print(cr)"
   ]
  },
  {
   "cell_type": "code",
   "execution_count": 209,
   "id": "4ea51f2e",
   "metadata": {},
   "outputs": [],
   "source": [
    "#On the unscaled/scaled data Random Forest appears to do the best with logistic regression performing second, and linear svc\n",
    "# bringing up the rear. Logistic regression performed better on the scaled data as did linear svc but neither reached an\n",
    "# accuracy of 0.8"
   ]
  },
  {
   "cell_type": "markdown",
   "id": "ebd84ae4",
   "metadata": {},
   "source": [
    "# Random Forest performed the best in terms of accuracy and F-1 score on the validation set. I will be using it moving foreword."
   ]
  },
  {
   "cell_type": "markdown",
   "id": "0ded0712",
   "metadata": {},
   "source": [
    "# Step 3 Perform three experiments on Random Forest and see how it performs."
   ]
  },
  {
   "cell_type": "markdown",
   "id": "5efafe6e",
   "metadata": {},
   "source": [
    "### 20% Training Set Data, Validation Set Same Size"
   ]
  },
  {
   "cell_type": "markdown",
   "id": "1213412a",
   "metadata": {},
   "source": [
    "#### Experiment 1"
   ]
  },
  {
   "cell_type": "code",
   "execution_count": 247,
   "id": "a249653d",
   "metadata": {},
   "outputs": [
    {
     "name": "stdout",
     "output_type": "stream",
     "text": [
      "Score:  0.9954853273137697\n"
     ]
    },
    {
     "name": "stderr",
     "output_type": "stream",
     "text": [
      "<ipython-input-247-52bec99f9bf8>:11: DataConversionWarning: A column-vector y was passed when a 1d array was expected. Please change the shape of y to (n_samples,), for example using ravel().\n",
      "  clf.fit(xtrain_maxabs, ytrain)\n"
     ]
    }
   ],
   "source": [
    "#Split the training data into testing and training parts. Use 80% of it as test data, remaining is training.\n",
    "xtrain, xtest, ytrain, ytest = train_test_split(connectionData, y, test_size = 0.80)\n",
    "\n",
    "#Transform the training set with the appropriate scaler.\n",
    "xtrain_maxabs = max_abs_scaler.fit_transform(xtrain)\n",
    "\n",
    "#Create a classifier\n",
    "clf=RandomForestClassifier(n_estimators=6)\n",
    "\n",
    "#Train the model and set up the y prediction variable\n",
    "clf.fit(xtrain_maxabs, ytrain)\n",
    "\n",
    "#Print accuracy score\n",
    "rf_score1 = clf.score(xtrain_maxabs, ytrain)\n",
    "print(\"Score: \", rf_score1)"
   ]
  },
  {
   "cell_type": "code",
   "execution_count": 248,
   "id": "25493159",
   "metadata": {},
   "outputs": [
    {
     "name": "stdout",
     "output_type": "stream",
     "text": [
      "              precision    recall  f1-score   support\n",
      "\n",
      "           0       0.63      0.92      0.75        78\n",
      "           1       0.89      0.80      0.84       208\n",
      "           2       0.86      0.75      0.80       165\n",
      "           3       0.78      0.84      0.81        85\n",
      "          10       0.73      0.73      0.73        30\n",
      "          11       0.89      0.55      0.68       143\n",
      "          12       0.58      0.85      0.69        87\n",
      "          13       0.60      0.74      0.67        47\n",
      "          20       0.63      0.92      0.75        24\n",
      "          21       0.82      0.78      0.80       111\n",
      "          22       0.58      0.41      0.48        54\n",
      "          23       0.48      0.80      0.60        40\n",
      "          24       0.88      0.54      0.67        39\n",
      "\n",
      "    accuracy                           0.74      1111\n",
      "   macro avg       0.72      0.74      0.71      1111\n",
      "weighted avg       0.77      0.74      0.74      1111\n",
      "\n"
     ]
    }
   ],
   "source": [
    "#Now test the validation set on the fitted model\n",
    "rfYPrediction = clf.predict(xval_maxabs)\n",
    "\n",
    "#Show F-1 score\n",
    "cr = classification_report(val_y, rfYPrediction)\n",
    "print(cr)"
   ]
  },
  {
   "cell_type": "markdown",
   "id": "a62fdd86",
   "metadata": {},
   "source": [
    "#### Experiment 2"
   ]
  },
  {
   "cell_type": "code",
   "execution_count": 249,
   "id": "5013eab3",
   "metadata": {},
   "outputs": [
    {
     "name": "stdout",
     "output_type": "stream",
     "text": [
      "Score:  0.9957361424630048\n"
     ]
    },
    {
     "name": "stderr",
     "output_type": "stream",
     "text": [
      "<ipython-input-249-37b5f9ac35a1>:6: DataConversionWarning: A column-vector y was passed when a 1d array was expected. Please change the shape of y to (n_samples,), for example using ravel().\n",
      "  clf.fit(xtrain_maxabs, ytrain)\n"
     ]
    }
   ],
   "source": [
    "#Split the training data into testing and training parts. Use 80% of it as test data, remaining is training.\n",
    "xtrain, xtest, ytrain, ytest = train_test_split(connectionData, y, test_size = 0.80)\n",
    "#Transform the training set with the appropriate scaler.\n",
    "xtrain_maxabs = max_abs_scaler.fit_transform(xtrain)\n",
    "#Train the model and set up the y prediction variable\n",
    "clf.fit(xtrain_maxabs, ytrain)\n",
    "\n",
    "#Print accuracy score\n",
    "rf_score2 = clf.score(xtrain_maxabs, ytrain)\n",
    "print(\"Score: \", rf_score2)"
   ]
  },
  {
   "cell_type": "code",
   "execution_count": 250,
   "id": "fbcc5acb",
   "metadata": {},
   "outputs": [
    {
     "name": "stdout",
     "output_type": "stream",
     "text": [
      "              precision    recall  f1-score   support\n",
      "\n",
      "           0       0.64      0.87      0.74        78\n",
      "           1       0.88      0.73      0.80       208\n",
      "           2       0.76      0.79      0.77       165\n",
      "           3       0.83      0.76      0.80        85\n",
      "          10       0.52      0.77      0.62        30\n",
      "          11       0.88      0.50      0.63       143\n",
      "          12       0.52      0.72      0.61        87\n",
      "          13       0.56      0.79      0.65        47\n",
      "          20       0.44      0.92      0.59        24\n",
      "          21       0.80      0.83      0.81       111\n",
      "          22       0.81      0.31      0.45        54\n",
      "          23       0.50      0.82      0.62        40\n",
      "          24       0.76      0.41      0.53        39\n",
      "\n",
      "    accuracy                           0.71      1111\n",
      "   macro avg       0.69      0.71      0.66      1111\n",
      "weighted avg       0.75      0.71      0.71      1111\n",
      "\n"
     ]
    }
   ],
   "source": [
    "#Now test the validation set on the fitted model\n",
    "rfYPrediction = clf.predict(xval_maxabs)\n",
    "\n",
    "#Show F-1 Score\n",
    "cr = classification_report(val_y, rfYPrediction)\n",
    "print(cr)"
   ]
  },
  {
   "cell_type": "markdown",
   "id": "5c993ee1",
   "metadata": {},
   "source": [
    "#### Experiment 3"
   ]
  },
  {
   "cell_type": "code",
   "execution_count": 251,
   "id": "6889947c",
   "metadata": {},
   "outputs": [
    {
     "name": "stdout",
     "output_type": "stream",
     "text": [
      "Score:  0.9922247303737146\n"
     ]
    },
    {
     "name": "stderr",
     "output_type": "stream",
     "text": [
      "<ipython-input-251-bc15c04d07d4>:6: DataConversionWarning: A column-vector y was passed when a 1d array was expected. Please change the shape of y to (n_samples,), for example using ravel().\n",
      "  clf.fit(xtrain_maxabs, ytrain)\n"
     ]
    }
   ],
   "source": [
    "#Split the training data into testing and training parts. Use 80% of it as test data, remaining is training.\n",
    "xtrain, xtest, ytrain, ytest = train_test_split(connectionData, y, test_size = 0.80)\n",
    "#Transform the training set with the appropriate scaler.\n",
    "xtrain_maxabs = max_abs_scaler.fit_transform(xtrain)\n",
    "#Train the model and set up the y prediction variable\n",
    "clf.fit(xtrain_maxabs, ytrain)\n",
    "\n",
    "#Show accuracy score\n",
    "rf_score3 = clf.score(xtrain_maxabs, ytrain)\n",
    "print(\"Score: \", rf_score3)"
   ]
  },
  {
   "cell_type": "code",
   "execution_count": 252,
   "id": "1b1042e0",
   "metadata": {
    "scrolled": true
   },
   "outputs": [
    {
     "name": "stdout",
     "output_type": "stream",
     "text": [
      "              precision    recall  f1-score   support\n",
      "\n",
      "           0       0.70      0.94      0.80        78\n",
      "           1       0.87      0.80      0.83       208\n",
      "           2       0.85      0.76      0.80       165\n",
      "           3       0.83      0.84      0.83        85\n",
      "          10       0.50      0.67      0.57        30\n",
      "          11       0.90      0.55      0.68       143\n",
      "          12       0.62      0.82      0.70        87\n",
      "          13       0.58      0.81      0.68        47\n",
      "          20       0.59      0.83      0.69        24\n",
      "          21       0.82      0.78      0.80       111\n",
      "          22       0.74      0.46      0.57        54\n",
      "          23       0.45      0.95      0.61        40\n",
      "          24       0.92      0.28      0.43        39\n",
      "\n",
      "    accuracy                           0.74      1111\n",
      "   macro avg       0.72      0.73      0.69      1111\n",
      "weighted avg       0.78      0.74      0.74      1111\n",
      "\n"
     ]
    }
   ],
   "source": [
    "#Now test the validation set on the fitted model\n",
    "rfYPrediction = clf.predict(xval_maxabs)\n",
    "\n",
    "#Show F-1 score\n",
    "cr = classification_report(val_y, rfYPrediction)\n",
    "print(cr)"
   ]
  },
  {
   "cell_type": "markdown",
   "id": "d4cbcd4b",
   "metadata": {},
   "source": [
    "#### Average of Scores"
   ]
  },
  {
   "cell_type": "code",
   "execution_count": 253,
   "id": "1a80804c",
   "metadata": {},
   "outputs": [
    {
     "name": "stdout",
     "output_type": "stream",
     "text": [
      "Average Accuracy for 20% Training Data:  0.9944820667168296\n",
      "Average F-1 Accuracy for 20% Training Data:  0.7433333333333333\n"
     ]
    }
   ],
   "source": [
    "#Average the prediction accuracy three scores obtained from experiment \n",
    "average_accuracy20 = (rf_score1 + rf_score2 + rf_score3)/3\n",
    "\n",
    "#Averge the F-1 scores obtained from experiment (note may be different from what is shown in slides because I cant figure\n",
    "#out how to directly store the F-1 score as a variable)\n",
    "average_F120 = (0.75 + 0.74 + 0.74)/3\n",
    "\n",
    "#Display the above information\n",
    "print(\"Average Accuracy for 20% Training Data: \", average_accuracy20)\n",
    "print(\"Average F-1 Accuracy for 20% Training Data: \", average_F120)"
   ]
  },
  {
   "cell_type": "markdown",
   "id": "4c892889",
   "metadata": {},
   "source": [
    "### 40% Training Set Data, Validation Set Same Size"
   ]
  },
  {
   "cell_type": "markdown",
   "id": "a10b536e",
   "metadata": {},
   "source": [
    "#### Experiment 1"
   ]
  },
  {
   "cell_type": "code",
   "execution_count": 254,
   "id": "30c03957",
   "metadata": {},
   "outputs": [
    {
     "name": "stderr",
     "output_type": "stream",
     "text": [
      "<ipython-input-254-b7a1ec06e990>:11: DataConversionWarning: A column-vector y was passed when a 1d array was expected. Please change the shape of y to (n_samples,), for example using ravel().\n",
      "  clf.fit(xtrain_maxabs, ytrain)\n"
     ]
    },
    {
     "name": "stdout",
     "output_type": "stream",
     "text": [
      "Score:  0.9966139954853274\n"
     ]
    }
   ],
   "source": [
    "#Split the training data into testing and training parts. Use 60% of it as test data, remaining is training.\n",
    "xtrain, xtest, ytrain, ytest = train_test_split(connectionData, y, test_size = 0.60)\n",
    "\n",
    "#Transform the training set with the appropriate scaler.\n",
    "xtrain_maxabs = max_abs_scaler.fit_transform(xtrain)\n",
    "\n",
    "#Create a classifier\n",
    "clf=RandomForestClassifier(n_estimators=6)\n",
    "\n",
    "#Train the model and set up the y prediction variable\n",
    "clf.fit(xtrain_maxabs, ytrain)\n",
    "\n",
    "#Display prediction score\n",
    "rf_score1 = clf.score(xtrain_maxabs, ytrain)\n",
    "print(\"Score: \", rf_score1)"
   ]
  },
  {
   "cell_type": "code",
   "execution_count": 255,
   "id": "4f35542f",
   "metadata": {
    "scrolled": true
   },
   "outputs": [
    {
     "name": "stdout",
     "output_type": "stream",
     "text": [
      "              precision    recall  f1-score   support\n",
      "\n",
      "           0       0.77      0.92      0.84        78\n",
      "           1       0.89      0.86      0.88       208\n",
      "           2       0.87      0.85      0.86       165\n",
      "           3       0.91      0.85      0.88        85\n",
      "          10       0.70      0.77      0.73        30\n",
      "          11       0.93      0.60      0.73       143\n",
      "          12       0.60      0.84      0.70        87\n",
      "          13       0.67      0.85      0.75        47\n",
      "          20       0.63      0.92      0.75        24\n",
      "          21       0.86      0.86      0.86       111\n",
      "          22       0.80      0.44      0.57        54\n",
      "          23       0.54      0.93      0.69        40\n",
      "          24       1.00      0.62      0.76        39\n",
      "\n",
      "    accuracy                           0.80      1111\n",
      "   macro avg       0.78      0.79      0.77      1111\n",
      "weighted avg       0.83      0.80      0.80      1111\n",
      "\n"
     ]
    }
   ],
   "source": [
    "#Now test the validation set on the fitted model\n",
    "rfYPrediction = clf.predict(xval_maxabs)\n",
    "\n",
    "#Display F-1 scores\n",
    "cr = classification_report(val_y, rfYPrediction)\n",
    "print(cr)"
   ]
  },
  {
   "cell_type": "markdown",
   "id": "b7a6ef42",
   "metadata": {},
   "source": [
    "#### Experiment 2"
   ]
  },
  {
   "cell_type": "code",
   "execution_count": 256,
   "id": "d478fecf",
   "metadata": {},
   "outputs": [
    {
     "name": "stdout",
     "output_type": "stream",
     "text": [
      "Score:  0.9966139954853274\n"
     ]
    },
    {
     "name": "stderr",
     "output_type": "stream",
     "text": [
      "<ipython-input-256-a3fe86d1042b>:6: DataConversionWarning: A column-vector y was passed when a 1d array was expected. Please change the shape of y to (n_samples,), for example using ravel().\n",
      "  clf.fit(xtrain_maxabs, ytrain)\n"
     ]
    }
   ],
   "source": [
    "#Split the training data into testing and training parts. Use 60% of it as test data, remaining is training.\n",
    "xtrain, xtest, ytrain, ytest = train_test_split(connectionData, y, test_size = 0.60)\n",
    "#Transform the training set with the appropriate scaler.\n",
    "xtrain_maxabs = max_abs_scaler.fit_transform(xtrain)\n",
    "#Train the model and set up the y prediction variable\n",
    "clf.fit(xtrain_maxabs, ytrain)\n",
    "\n",
    "#Display prediction score\n",
    "rf_score2 = clf.score(xtrain_maxabs, ytrain)\n",
    "print(\"Score: \", rf_score2)"
   ]
  },
  {
   "cell_type": "code",
   "execution_count": 257,
   "id": "d2886b5c",
   "metadata": {},
   "outputs": [
    {
     "name": "stdout",
     "output_type": "stream",
     "text": [
      "              precision    recall  f1-score   support\n",
      "\n",
      "           0       0.64      0.96      0.77        78\n",
      "           1       0.89      0.80      0.85       208\n",
      "           2       0.89      0.81      0.85       165\n",
      "           3       0.90      0.84      0.87        85\n",
      "          10       0.60      0.83      0.69        30\n",
      "          11       0.94      0.59      0.72       143\n",
      "          12       0.64      0.89      0.74        87\n",
      "          13       0.71      0.83      0.76        47\n",
      "          20       0.56      0.83      0.67        24\n",
      "          21       0.90      0.85      0.87       111\n",
      "          22       0.79      0.56      0.65        54\n",
      "          23       0.56      0.93      0.70        40\n",
      "          24       0.92      0.62      0.74        39\n",
      "\n",
      "    accuracy                           0.79      1111\n",
      "   macro avg       0.76      0.79      0.76      1111\n",
      "weighted avg       0.82      0.79      0.79      1111\n",
      "\n"
     ]
    }
   ],
   "source": [
    "#Now test the validation set on the fitted model\n",
    "rfYPrediction = clf.predict(xval_maxabs)\n",
    "\n",
    "#Display F-1 score\n",
    "cr = classification_report(val_y, rfYPrediction)\n",
    "print(cr)"
   ]
  },
  {
   "cell_type": "markdown",
   "id": "6609ee21",
   "metadata": {},
   "source": [
    "#### Experiment 3"
   ]
  },
  {
   "cell_type": "code",
   "execution_count": 258,
   "id": "8bed4e56",
   "metadata": {},
   "outputs": [
    {
     "name": "stdout",
     "output_type": "stream",
     "text": [
      "Score:  0.9954853273137697\n"
     ]
    },
    {
     "name": "stderr",
     "output_type": "stream",
     "text": [
      "<ipython-input-258-aee5a0368dc8>:6: DataConversionWarning: A column-vector y was passed when a 1d array was expected. Please change the shape of y to (n_samples,), for example using ravel().\n",
      "  clf.fit(xtrain_maxabs, ytrain)\n"
     ]
    }
   ],
   "source": [
    "#Split the training data into testing and training parts. Use 60% of it as test data, remaining is training.\n",
    "xtrain, xtest, ytrain, ytest = train_test_split(connectionData, y, test_size = 0.60)\n",
    "#Transform the training set with the appropriate scaler.\n",
    "xtrain_maxabs = max_abs_scaler.fit_transform(xtrain)\n",
    "#Train the model and set up the y prediction variable\n",
    "clf.fit(xtrain_maxabs, ytrain)\n",
    "\n",
    "#Display prediction score\n",
    "rf_score3 = clf.score(xtrain_maxabs, ytrain)\n",
    "print(\"Score: \", rf_score3)"
   ]
  },
  {
   "cell_type": "code",
   "execution_count": 259,
   "id": "18c67380",
   "metadata": {},
   "outputs": [
    {
     "name": "stdout",
     "output_type": "stream",
     "text": [
      "              precision    recall  f1-score   support\n",
      "\n",
      "           0       0.73      0.92      0.82        78\n",
      "           1       0.90      0.88      0.89       208\n",
      "           2       0.91      0.82      0.86       165\n",
      "           3       0.88      0.88      0.88        85\n",
      "          10       0.59      0.80      0.68        30\n",
      "          11       0.95      0.49      0.65       143\n",
      "          12       0.53      0.84      0.65        87\n",
      "          13       0.70      0.81      0.75        47\n",
      "          20       0.65      0.83      0.73        24\n",
      "          21       0.82      0.87      0.84       111\n",
      "          22       0.71      0.41      0.52        54\n",
      "          23       0.53      0.93      0.67        40\n",
      "          24       1.00      0.46      0.63        39\n",
      "\n",
      "    accuracy                           0.78      1111\n",
      "   macro avg       0.76      0.76      0.74      1111\n",
      "weighted avg       0.81      0.78      0.77      1111\n",
      "\n"
     ]
    }
   ],
   "source": [
    "#Now test the validation set on the fitted model\n",
    "rfYPrediction = clf.predict(xval_maxabs)\n",
    "\n",
    "#Display F-1 score\n",
    "cr = classification_report(val_y, rfYPrediction)\n",
    "print(cr)"
   ]
  },
  {
   "cell_type": "markdown",
   "id": "8778c42c",
   "metadata": {},
   "source": [
    "#### Average of Scores"
   ]
  },
  {
   "cell_type": "code",
   "execution_count": 260,
   "id": "97e021af",
   "metadata": {},
   "outputs": [
    {
     "name": "stdout",
     "output_type": "stream",
     "text": [
      "Average Accuracy for 40% Training Data:  0.9962377727614747\n",
      "Average F-1 Accuracy for 40% Training Data:  0.7833333333333333\n"
     ]
    }
   ],
   "source": [
    "#Calculate average prediction accuracy and average F-1 score and display both\n",
    "average_accuracy40 = (rf_score1 + rf_score2 + rf_score3)/3\n",
    "average_F140 = (0.78 + 0.80 + 0.77)/3\n",
    "print(\"Average Accuracy for 40% Training Data: \", average_accuracy40)\n",
    "print(\"Average F-1 Accuracy for 40% Training Data: \", average_F140)"
   ]
  },
  {
   "cell_type": "markdown",
   "id": "4e458b72",
   "metadata": {},
   "source": [
    "### 60% Training Set Data, Validation Set Same Size"
   ]
  },
  {
   "cell_type": "markdown",
   "id": "16a7d02c",
   "metadata": {},
   "source": [
    "#### Experiment 1"
   ]
  },
  {
   "cell_type": "code",
   "execution_count": 261,
   "id": "0fc69fce",
   "metadata": {},
   "outputs": [
    {
     "name": "stderr",
     "output_type": "stream",
     "text": [
      "<ipython-input-261-c8618506b387>:11: DataConversionWarning: A column-vector y was passed when a 1d array was expected. Please change the shape of y to (n_samples,), for example using ravel().\n",
      "  clf.fit(xtrain_maxabs, ytrain)\n"
     ]
    },
    {
     "name": "stdout",
     "output_type": "stream",
     "text": [
      "Score:  0.9963216853369001\n"
     ]
    }
   ],
   "source": [
    "#Split the training data into testing and training parts. Use 40% of it as test data, remaining is training.\n",
    "xtrain, xtest, ytrain, ytest = train_test_split(connectionData, y, test_size = 0.40)\n",
    "\n",
    "#Transform the training set with the appropriate scaler.\n",
    "xtrain_maxabs = max_abs_scaler.fit_transform(xtrain)\n",
    "\n",
    "#Create a classifier\n",
    "clf=RandomForestClassifier(n_estimators=6)\n",
    "\n",
    "#Train the model and set up the y prediction variable\n",
    "clf.fit(xtrain_maxabs, ytrain)\n",
    "\n",
    "#Display prediction accuracy\n",
    "rf_score1 = clf.score(xtrain_maxabs, ytrain)\n",
    "print(\"Score: \", rf_score1)"
   ]
  },
  {
   "cell_type": "code",
   "execution_count": 262,
   "id": "d211e463",
   "metadata": {
    "scrolled": true
   },
   "outputs": [
    {
     "name": "stdout",
     "output_type": "stream",
     "text": [
      "              precision    recall  f1-score   support\n",
      "\n",
      "           0       0.78      0.94      0.85        78\n",
      "           1       0.96      0.83      0.89       208\n",
      "           2       0.84      0.87      0.86       165\n",
      "           3       0.87      0.88      0.88        85\n",
      "          10       0.61      0.77      0.68        30\n",
      "          11       0.92      0.58      0.71       143\n",
      "          12       0.60      0.92      0.73        87\n",
      "          13       0.70      0.79      0.74        47\n",
      "          20       0.53      0.96      0.69        24\n",
      "          21       0.86      0.84      0.85       111\n",
      "          22       0.90      0.50      0.64        54\n",
      "          23       0.62      0.97      0.76        40\n",
      "          24       0.95      0.54      0.69        39\n",
      "\n",
      "    accuracy                           0.80      1111\n",
      "   macro avg       0.78      0.80      0.77      1111\n",
      "weighted avg       0.83      0.80      0.80      1111\n",
      "\n"
     ]
    }
   ],
   "source": [
    "#Now test the validation set on the fitted model\n",
    "rfYPrediction = clf.predict(xval_maxabs)\n",
    "\n",
    "#Display F-1 score\n",
    "cr = classification_report(val_y, rfYPrediction)\n",
    "print(cr)"
   ]
  },
  {
   "cell_type": "markdown",
   "id": "b46386d2",
   "metadata": {},
   "source": [
    "#### Experiment 2"
   ]
  },
  {
   "cell_type": "code",
   "execution_count": 263,
   "id": "f55d29c3",
   "metadata": {},
   "outputs": [
    {
     "name": "stderr",
     "output_type": "stream",
     "text": [
      "<ipython-input-263-67ffdbda5333>:6: DataConversionWarning: A column-vector y was passed when a 1d array was expected. Please change the shape of y to (n_samples,), for example using ravel().\n",
      "  clf.fit(xtrain_maxabs, ytrain)\n"
     ]
    },
    {
     "name": "stdout",
     "output_type": "stream",
     "text": [
      "Score:  0.9959872930948002\n"
     ]
    }
   ],
   "source": [
    "#Split the training data into testing and training parts. Use 40% of it as test data, remaining is training.\n",
    "xtrain, xtest, ytrain, ytest = train_test_split(connectionData, y, test_size = 0.40)\n",
    "#Transform the training set with the appropriate scaler.\n",
    "xtrain_maxabs = max_abs_scaler.fit_transform(xtrain)\n",
    "#Train the model and set up the y prediction variable\n",
    "clf.fit(xtrain_maxabs, ytrain)\n",
    "\n",
    "#Display prediction accuracy\n",
    "rf_score2 = clf.score(xtrain_maxabs, ytrain)\n",
    "print(\"Score: \", rf_score2)"
   ]
  },
  {
   "cell_type": "code",
   "execution_count": 264,
   "id": "da4fd048",
   "metadata": {},
   "outputs": [
    {
     "name": "stdout",
     "output_type": "stream",
     "text": [
      "              precision    recall  f1-score   support\n",
      "\n",
      "           0       0.64      0.87      0.74        78\n",
      "           1       0.89      0.78      0.83       208\n",
      "           2       0.87      0.88      0.88       165\n",
      "           3       0.91      0.81      0.86        85\n",
      "          10       0.57      0.70      0.63        30\n",
      "          11       0.93      0.49      0.64       143\n",
      "          12       0.55      0.91      0.69        87\n",
      "          13       0.76      0.87      0.81        47\n",
      "          20       0.58      0.92      0.71        24\n",
      "          21       0.86      0.82      0.84       111\n",
      "          22       0.75      0.50      0.60        54\n",
      "          23       0.51      0.85      0.64        40\n",
      "          24       0.88      0.54      0.67        39\n",
      "\n",
      "    accuracy                           0.77      1111\n",
      "   macro avg       0.75      0.76      0.73      1111\n",
      "weighted avg       0.81      0.77      0.77      1111\n",
      "\n"
     ]
    }
   ],
   "source": [
    "#Now test the validation set on the fitted model\n",
    "rfYPrediction = clf.predict(xval_maxabs)\n",
    "\n",
    "#Display F-1 score\n",
    "cr = classification_report(val_y, rfYPrediction)\n",
    "print(cr)"
   ]
  },
  {
   "cell_type": "markdown",
   "id": "18468344",
   "metadata": {},
   "source": [
    "#### Experiment 3"
   ]
  },
  {
   "cell_type": "code",
   "execution_count": 265,
   "id": "7a4b3595",
   "metadata": {},
   "outputs": [
    {
     "name": "stderr",
     "output_type": "stream",
     "text": [
      "<ipython-input-265-ac06ff7cca89>:6: DataConversionWarning: A column-vector y was passed when a 1d array was expected. Please change the shape of y to (n_samples,), for example using ravel().\n",
      "  clf.fit(xtrain_maxabs, ytrain)\n"
     ]
    },
    {
     "name": "stdout",
     "output_type": "stream",
     "text": [
      "Score:  0.9963216853369001\n"
     ]
    }
   ],
   "source": [
    "#Split the training data into testing and training parts. Use 40% of it as test data, remaining is training.\n",
    "xtrain, xtest, ytrain, ytest = train_test_split(connectionData, y, test_size = 0.40)\n",
    "#Transform the training set with the appropriate scaler.\n",
    "xtrain_maxabs = max_abs_scaler.fit_transform(xtrain)\n",
    "#Train the model and set up the y prediction variable\n",
    "clf.fit(xtrain_maxabs, ytrain)\n",
    "\n",
    "#Display prediction accuracy\n",
    "rf_score3 = clf.score(xtrain_maxabs, ytrain)\n",
    "print(\"Score: \", rf_score3)"
   ]
  },
  {
   "cell_type": "code",
   "execution_count": 266,
   "id": "6e154091",
   "metadata": {},
   "outputs": [
    {
     "name": "stdout",
     "output_type": "stream",
     "text": [
      "              precision    recall  f1-score   support\n",
      "\n",
      "           0       0.63      0.91      0.75        78\n",
      "           1       0.90      0.78      0.83       208\n",
      "           2       0.88      0.87      0.87       165\n",
      "           3       0.91      0.88      0.90        85\n",
      "          10       0.65      0.73      0.69        30\n",
      "          11       0.89      0.59      0.71       143\n",
      "          12       0.62      0.90      0.73        87\n",
      "          13       0.82      0.85      0.83        47\n",
      "          20       0.65      0.83      0.73        24\n",
      "          21       0.82      0.87      0.85       111\n",
      "          22       0.74      0.37      0.49        54\n",
      "          23       0.50      0.88      0.64        40\n",
      "          24       0.79      0.49      0.60        39\n",
      "\n",
      "    accuracy                           0.78      1111\n",
      "   macro avg       0.75      0.77      0.74      1111\n",
      "weighted avg       0.81      0.78      0.78      1111\n",
      "\n"
     ]
    }
   ],
   "source": [
    "#Now test the validation set on the fitted model\n",
    "rfYPrediction = clf.predict(xval_maxabs)\n",
    "\n",
    "cr = classification_report(val_y, rfYPrediction)\n",
    "print(cr)"
   ]
  },
  {
   "cell_type": "markdown",
   "id": "19ef4a5d",
   "metadata": {},
   "source": [
    "#### Average of Scores"
   ]
  },
  {
   "cell_type": "code",
   "execution_count": 267,
   "id": "40555667",
   "metadata": {},
   "outputs": [
    {
     "name": "stdout",
     "output_type": "stream",
     "text": [
      "Average Accuracy for 60% Training Data:  0.9962102212562002\n",
      "Average F-1 Accuracy for 60% Training Data:  0.7833333333333333\n"
     ]
    }
   ],
   "source": [
    "#Average the prediction accuracy and F-1 scores. Display them.\n",
    "average_accuracy60 = (rf_score1 + rf_score2 + rf_score3)/3\n",
    "average_F160 = (0.78 + 0.78 + 0.79)/3\n",
    "print(\"Average Accuracy for 60% Training Data: \", average_accuracy60)\n",
    "print(\"Average F-1 Accuracy for 60% Training Data: \", average_F160)"
   ]
  },
  {
   "cell_type": "markdown",
   "id": "01da1791",
   "metadata": {},
   "source": [
    "### 80% Training Set Data, Validation Set Same Size"
   ]
  },
  {
   "cell_type": "markdown",
   "id": "e0d7466c",
   "metadata": {},
   "source": [
    "#### Experiment 1"
   ]
  },
  {
   "cell_type": "code",
   "execution_count": 268,
   "id": "76202705",
   "metadata": {},
   "outputs": [
    {
     "name": "stderr",
     "output_type": "stream",
     "text": [
      "<ipython-input-268-dce0e2646ecc>:11: DataConversionWarning: A column-vector y was passed when a 1d array was expected. Please change the shape of y to (n_samples,), for example using ravel().\n",
      "  clf.fit(xtrain_maxabs, ytrain)\n"
     ]
    },
    {
     "name": "stdout",
     "output_type": "stream",
     "text": [
      "Score:  0.9966769076431125\n"
     ]
    }
   ],
   "source": [
    "#Split the training data into testing and training parts. Use 20% of it as test data, remaining is training.\n",
    "xtrain, xtest, ytrain, ytest = train_test_split(connectionData, y, test_size = 0.20)\n",
    "\n",
    "#Transform the training set with the appropriate scaler.\n",
    "xtrain_maxabs = max_abs_scaler.fit_transform(xtrain)\n",
    "\n",
    "#Create a classifier\n",
    "clf=RandomForestClassifier(n_estimators=6)\n",
    "\n",
    "#Train the model and set up the y prediction variable\n",
    "clf.fit(xtrain_maxabs, ytrain)\n",
    "\n",
    "#Display prediction accuracy\n",
    "rf_score1 = clf.score(xtrain_maxabs, ytrain)\n",
    "print(\"Score: \", rf_score1)"
   ]
  },
  {
   "cell_type": "code",
   "execution_count": 269,
   "id": "efa96a7d",
   "metadata": {},
   "outputs": [
    {
     "name": "stdout",
     "output_type": "stream",
     "text": [
      "              precision    recall  f1-score   support\n",
      "\n",
      "           0       0.73      0.88      0.80        78\n",
      "           1       0.92      0.84      0.87       208\n",
      "           2       0.84      0.86      0.85       165\n",
      "           3       0.89      0.87      0.88        85\n",
      "          10       0.68      0.83      0.75        30\n",
      "          11       0.94      0.55      0.69       143\n",
      "          12       0.57      0.83      0.68        87\n",
      "          13       0.68      0.87      0.77        47\n",
      "          20       0.81      0.92      0.86        24\n",
      "          21       0.88      0.89      0.88       111\n",
      "          22       0.76      0.57      0.65        54\n",
      "          23       0.56      0.88      0.69        40\n",
      "          24       0.92      0.59      0.72        39\n",
      "\n",
      "    accuracy                           0.80      1111\n",
      "   macro avg       0.78      0.80      0.78      1111\n",
      "weighted avg       0.82      0.80      0.80      1111\n",
      "\n"
     ]
    }
   ],
   "source": [
    "#Now test the validation set on the fitted model\n",
    "rfYPrediction = clf.predict(xval_maxabs)\n",
    "\n",
    "#Display F-1 score\n",
    "cr = classification_report(val_y, rfYPrediction)\n",
    "print(cr)"
   ]
  },
  {
   "cell_type": "markdown",
   "id": "07145d5d",
   "metadata": {},
   "source": [
    "#### Experiment 2"
   ]
  },
  {
   "cell_type": "code",
   "execution_count": 270,
   "id": "d259ca6c",
   "metadata": {},
   "outputs": [
    {
     "name": "stderr",
     "output_type": "stream",
     "text": [
      "<ipython-input-270-f30d59d64c68>:6: DataConversionWarning: A column-vector y was passed when a 1d array was expected. Please change the shape of y to (n_samples,), for example using ravel().\n",
      "  clf.fit(xtrain_maxabs, ytrain)\n"
     ]
    },
    {
     "name": "stdout",
     "output_type": "stream",
     "text": [
      "Score:  0.9964888080757415\n"
     ]
    }
   ],
   "source": [
    "#Split the training data into testing and training parts. Use 20% of it as test data, remaining is training.\n",
    "xtrain, xtest, ytrain, ytest = train_test_split(connectionData, y, test_size = 0.20)\n",
    "#Transform the training set with the appropriate scaler.\n",
    "xtrain_maxabs = max_abs_scaler.fit_transform(xtrain)\n",
    "#Train the model and set up the y prediction variable\n",
    "clf.fit(xtrain_maxabs, ytrain)\n",
    "\n",
    "#Display prediction accuracy\n",
    "rf_score2 = clf.score(xtrain_maxabs, ytrain)\n",
    "print(\"Score: \", rf_score2)"
   ]
  },
  {
   "cell_type": "code",
   "execution_count": 271,
   "id": "16d754f3",
   "metadata": {
    "scrolled": true
   },
   "outputs": [
    {
     "name": "stdout",
     "output_type": "stream",
     "text": [
      "              precision    recall  f1-score   support\n",
      "\n",
      "           0       0.72      0.92      0.81        78\n",
      "           1       0.91      0.83      0.87       208\n",
      "           2       0.83      0.82      0.83       165\n",
      "           3       0.88      0.85      0.86        85\n",
      "          10       0.66      0.83      0.74        30\n",
      "          11       0.93      0.61      0.73       143\n",
      "          12       0.61      0.83      0.70        87\n",
      "          13       0.74      0.85      0.79        47\n",
      "          20       0.66      0.88      0.75        24\n",
      "          21       0.90      0.84      0.87       111\n",
      "          22       0.65      0.44      0.53        54\n",
      "          23       0.46      0.90      0.61        40\n",
      "          24       0.89      0.44      0.59        39\n",
      "\n",
      "    accuracy                           0.78      1111\n",
      "   macro avg       0.76      0.77      0.74      1111\n",
      "weighted avg       0.81      0.78      0.78      1111\n",
      "\n"
     ]
    }
   ],
   "source": [
    "#Now test the validation set on the fitted model\n",
    "rfYPrediction = clf.predict(xval_maxabs)\n",
    "\n",
    "#Display F-1 score\n",
    "cr = classification_report(val_y, rfYPrediction)\n",
    "print(cr)"
   ]
  },
  {
   "cell_type": "markdown",
   "id": "5de81d4a",
   "metadata": {},
   "source": [
    "#### Experiment 3"
   ]
  },
  {
   "cell_type": "code",
   "execution_count": 272,
   "id": "39e3c262",
   "metadata": {},
   "outputs": [
    {
     "name": "stderr",
     "output_type": "stream",
     "text": [
      "<ipython-input-272-dbfa5d1a7c5e>:6: DataConversionWarning: A column-vector y was passed when a 1d array was expected. Please change the shape of y to (n_samples,), for example using ravel().\n",
      "  clf.fit(xtrain_maxabs, ytrain)\n"
     ]
    },
    {
     "name": "stdout",
     "output_type": "stream",
     "text": [
      "Score:  0.9968023073546931\n"
     ]
    }
   ],
   "source": [
    "#Split the training data into testing and training parts. Use 20% of it as test data, remaining is training.\n",
    "xtrain, xtest, ytrain, ytest = train_test_split(connectionData, y, test_size = 0.20)\n",
    "#Transform the training set with the appropriate scaler.\n",
    "xtrain_maxabs = max_abs_scaler.fit_transform(xtrain)\n",
    "#Train the model and set up the y prediction variable\n",
    "clf.fit(xtrain_maxabs, ytrain)\n",
    "\n",
    "#Display prediction accuracy\n",
    "rf_score3 = clf.score(xtrain_maxabs, ytrain)\n",
    "print(\"Score: \", rf_score3)"
   ]
  },
  {
   "cell_type": "code",
   "execution_count": 273,
   "id": "85d4bd2f",
   "metadata": {},
   "outputs": [
    {
     "name": "stdout",
     "output_type": "stream",
     "text": [
      "              precision    recall  f1-score   support\n",
      "\n",
      "           0       0.67      0.92      0.78        78\n",
      "           1       0.90      0.81      0.86       208\n",
      "           2       0.87      0.90      0.88       165\n",
      "           3       0.92      0.78      0.84        85\n",
      "          10       0.55      0.77      0.64        30\n",
      "          11       0.90      0.58      0.71       143\n",
      "          12       0.61      0.85      0.71        87\n",
      "          13       0.73      0.79      0.76        47\n",
      "          20       0.73      0.92      0.81        24\n",
      "          21       0.86      0.91      0.89       111\n",
      "          22       0.89      0.44      0.59        54\n",
      "          23       0.58      0.95      0.72        40\n",
      "          24       0.93      0.67      0.78        39\n",
      "\n",
      "    accuracy                           0.79      1111\n",
      "   macro avg       0.78      0.79      0.77      1111\n",
      "weighted avg       0.82      0.79      0.79      1111\n",
      "\n"
     ]
    }
   ],
   "source": [
    "#Now test the validation set on the fitted model\n",
    "rfYPrediction = clf.predict(xval_maxabs)\n",
    "\n",
    "#Display F-1 score\n",
    "cr = classification_report(val_y, rfYPrediction)\n",
    "print(cr)"
   ]
  },
  {
   "cell_type": "markdown",
   "id": "489ee900",
   "metadata": {},
   "source": [
    "#### Average of Scores"
   ]
  },
  {
   "cell_type": "code",
   "execution_count": 274,
   "id": "add719ae",
   "metadata": {},
   "outputs": [
    {
     "name": "stdout",
     "output_type": "stream",
     "text": [
      "Average Accuracy for 80% Training Data:  0.9966560076911822\n",
      "Average F-1 Accuracy for 80% Training Data:  0.7966666666666667\n"
     ]
    }
   ],
   "source": [
    "#Average prediction accuracy and F-1 scores. Display them. \n",
    "average_accuracy80 = (rf_score1 + rf_score2 + rf_score3)/3\n",
    "average_F180 = (0.80 + 0.79 + 0.80)/3\n",
    "print(\"Average Accuracy for 80% Training Data: \", average_accuracy80)\n",
    "print(\"Average F-1 Accuracy for 80% Training Data: \", average_F180)"
   ]
  },
  {
   "cell_type": "markdown",
   "id": "5dd65cf3",
   "metadata": {},
   "source": [
    "### 100% Training Set Data, Validation Set Same Size"
   ]
  },
  {
   "cell_type": "markdown",
   "id": "36b4566c",
   "metadata": {},
   "source": [
    "#### Experiment 1"
   ]
  },
  {
   "cell_type": "code",
   "execution_count": 275,
   "id": "2864fe03",
   "metadata": {},
   "outputs": [
    {
     "name": "stderr",
     "output_type": "stream",
     "text": [
      "<ipython-input-275-e81b4def3a1c>:13: DataConversionWarning: A column-vector y was passed when a 1d array was expected. Please change the shape of y to (n_samples,), for example using ravel().\n",
      "  clf.fit(xtrain_maxabs, y)\n"
     ]
    },
    {
     "name": "stdout",
     "output_type": "stream",
     "text": [
      "Score:  0.9969403621407433\n"
     ]
    }
   ],
   "source": [
    "# Fit and transform the predictor columns for training and validation datasets\n",
    "xtrain_maxabs = max_abs_scaler.fit_transform(connectionData)\n",
    "xval_maxabs = max_abs_scaler.fit_transform(valConnectionData)\n",
    "\n",
    "#Select out response columns from data frames\n",
    "y = df.loc[:,['Building_Code']]\n",
    "val_y = val_df['Building_Code']\n",
    "\n",
    "#Create a classifier\n",
    "clf=RandomForestClassifier(n_estimators=6)\n",
    "\n",
    "#Train the model and set up the y prediction variable\n",
    "clf.fit(xtrain_maxabs, y)\n",
    "\n",
    "#Display prediction score\n",
    "rf_score1 = clf.score(xtrain_maxabs, y)\n",
    "print(\"Score: \", rf_score1)"
   ]
  },
  {
   "cell_type": "code",
   "execution_count": 276,
   "id": "b2e991b1",
   "metadata": {},
   "outputs": [
    {
     "name": "stdout",
     "output_type": "stream",
     "text": [
      "              precision    recall  f1-score   support\n",
      "\n",
      "           0       0.69      0.96      0.81        78\n",
      "           1       0.95      0.81      0.87       208\n",
      "           2       0.86      0.92      0.89       165\n",
      "           3       0.95      0.87      0.91        85\n",
      "          10       0.92      0.77      0.84        30\n",
      "          11       0.94      0.71      0.81       143\n",
      "          12       0.65      0.90      0.75        87\n",
      "          13       0.80      0.85      0.82        47\n",
      "          20       0.67      0.83      0.74        24\n",
      "          21       0.87      0.94      0.90       111\n",
      "          22       0.83      0.54      0.65        54\n",
      "          23       0.53      0.93      0.67        40\n",
      "          24       1.00      0.44      0.61        39\n",
      "\n",
      "    accuracy                           0.83      1111\n",
      "   macro avg       0.82      0.80      0.79      1111\n",
      "weighted avg       0.85      0.83      0.83      1111\n",
      "\n"
     ]
    }
   ],
   "source": [
    "#Now test the validation set on the fitted model\n",
    "rfYPrediction = clf.predict(xval_maxabs)\n",
    "\n",
    "#Display F-1 score\n",
    "cr = classification_report(val_y, rfYPrediction)\n",
    "print(cr)"
   ]
  },
  {
   "cell_type": "markdown",
   "id": "573761a8",
   "metadata": {},
   "source": [
    "#### Experiment 2"
   ]
  },
  {
   "cell_type": "code",
   "execution_count": 277,
   "id": "0e712b37",
   "metadata": {},
   "outputs": [
    {
     "name": "stderr",
     "output_type": "stream",
     "text": [
      "<ipython-input-277-c46aa1451fdf>:13: DataConversionWarning: A column-vector y was passed when a 1d array was expected. Please change the shape of y to (n_samples,), for example using ravel().\n",
      "  clf.fit(xtrain_maxabs, y)\n"
     ]
    },
    {
     "name": "stdout",
     "output_type": "stream",
     "text": [
      "Score:  0.9968400461453579\n"
     ]
    }
   ],
   "source": [
    "# Fit and transform the predictor columns for training and validation datasets\n",
    "xtrain_maxabs = max_abs_scaler.fit_transform(connectionData)\n",
    "xval_maxabs = max_abs_scaler.fit_transform(valConnectionData)\n",
    "\n",
    "#Select out response columns from data frames\n",
    "y = df.loc[:,['Building_Code']]\n",
    "val_y = val_df['Building_Code']\n",
    "\n",
    "#Create a classifier\n",
    "clf=RandomForestClassifier(n_estimators=6)\n",
    "\n",
    "#Train the model and set up the y prediction variable\n",
    "clf.fit(xtrain_maxabs, y)\n",
    "\n",
    "#Display prediction accuracy\n",
    "rf_score2 = clf.score(xtrain_maxabs, y)\n",
    "print(\"Score: \", rf_score2)"
   ]
  },
  {
   "cell_type": "code",
   "execution_count": 278,
   "id": "b29b8195",
   "metadata": {},
   "outputs": [
    {
     "name": "stdout",
     "output_type": "stream",
     "text": [
      "              precision    recall  f1-score   support\n",
      "\n",
      "           0       0.77      0.94      0.84        78\n",
      "           1       0.93      0.87      0.90       208\n",
      "           2       0.85      0.87      0.86       165\n",
      "           3       0.91      0.82      0.86        85\n",
      "          10       0.71      0.80      0.75        30\n",
      "          11       0.95      0.59      0.73       143\n",
      "          12       0.58      0.90      0.71        87\n",
      "          13       0.77      0.85      0.81        47\n",
      "          20       0.71      0.92      0.80        24\n",
      "          21       0.82      0.88      0.85       111\n",
      "          22       0.82      0.50      0.62        54\n",
      "          23       0.64      0.93      0.76        40\n",
      "          24       0.88      0.59      0.71        39\n",
      "\n",
      "    accuracy                           0.81      1111\n",
      "   macro avg       0.80      0.80      0.78      1111\n",
      "weighted avg       0.83      0.81      0.81      1111\n",
      "\n"
     ]
    }
   ],
   "source": [
    "#Now test the validation set on the fitted model\n",
    "rfYPrediction = clf.predict(xval_maxabs)\n",
    "\n",
    "#Display F-1 score\n",
    "cr = classification_report(val_y, rfYPrediction)\n",
    "print(cr)"
   ]
  },
  {
   "cell_type": "markdown",
   "id": "f01e4eec",
   "metadata": {},
   "source": [
    "#### Experiment 3"
   ]
  },
  {
   "cell_type": "code",
   "execution_count": 279,
   "id": "7588fada",
   "metadata": {},
   "outputs": [
    {
     "name": "stderr",
     "output_type": "stream",
     "text": [
      "<ipython-input-279-0003dc206f07>:13: DataConversionWarning: A column-vector y was passed when a 1d array was expected. Please change the shape of y to (n_samples,), for example using ravel().\n",
      "  clf.fit(xtrain_maxabs, y)\n"
     ]
    },
    {
     "name": "stdout",
     "output_type": "stream",
     "text": [
      "Score:  0.996990520138436\n"
     ]
    }
   ],
   "source": [
    "# Fit and transform the predictor columns for training and validation datasets\n",
    "xtrain_maxabs = max_abs_scaler.fit_transform(connectionData)\n",
    "xval_maxabs = max_abs_scaler.fit_transform(valConnectionData)\n",
    "\n",
    "#Select out response columns from data frames\n",
    "y = df.loc[:,['Building_Code']]\n",
    "val_y = val_df['Building_Code']\n",
    "\n",
    "#Create a classifier\n",
    "clf=RandomForestClassifier(n_estimators=6)\n",
    "\n",
    "#Train the model and set up the y prediction variable\n",
    "clf.fit(xtrain_maxabs, y)\n",
    "\n",
    "#Display prediction accuracy\n",
    "rf_score3 = clf.score(xtrain_maxabs, y)\n",
    "print(\"Score: \", rf_score3)"
   ]
  },
  {
   "cell_type": "code",
   "execution_count": 280,
   "id": "fdf5c84b",
   "metadata": {},
   "outputs": [
    {
     "name": "stdout",
     "output_type": "stream",
     "text": [
      "              precision    recall  f1-score   support\n",
      "\n",
      "           0       0.75      0.95      0.84        78\n",
      "           1       0.95      0.82      0.88       208\n",
      "           2       0.87      0.91      0.89       165\n",
      "           3       0.93      0.88      0.90        85\n",
      "          10       0.68      0.83      0.75        30\n",
      "          11       0.95      0.63      0.76       143\n",
      "          12       0.62      0.91      0.73        87\n",
      "          13       0.71      0.77      0.73        47\n",
      "          20       0.67      0.92      0.77        24\n",
      "          21       0.88      0.89      0.89       111\n",
      "          22       0.85      0.63      0.72        54\n",
      "          23       0.58      0.90      0.71        40\n",
      "          24       1.00      0.54      0.70        39\n",
      "\n",
      "    accuracy                           0.82      1111\n",
      "   macro avg       0.80      0.81      0.79      1111\n",
      "weighted avg       0.85      0.82      0.82      1111\n",
      "\n"
     ]
    }
   ],
   "source": [
    "#Now test the validation set on the fitted model\n",
    "rfYPrediction = clf.predict(xval_maxabs)\n",
    "\n",
    "#Display F-1 score\n",
    "cr = classification_report(val_y, rfYPrediction)\n",
    "print(cr)"
   ]
  },
  {
   "cell_type": "markdown",
   "id": "e5676983",
   "metadata": {},
   "source": [
    "#### Average of Scores"
   ]
  },
  {
   "cell_type": "code",
   "execution_count": 281,
   "id": "d2c10270",
   "metadata": {},
   "outputs": [
    {
     "name": "stdout",
     "output_type": "stream",
     "text": [
      "Average Accuracy for 100% Training Data:  0.996923642808179\n",
      "Average F-1 Accuracy for 100% Training Data:  0.7933333333333333\n"
     ]
    }
   ],
   "source": [
    "#Display average prediction accuracy and F-1 score. Display them.\n",
    "average_accuracy100 = (rf_score1 + rf_score2 + rf_score3)/3\n",
    "average_F1100 = (0.80 + 0.78 + 0.80)/3\n",
    "print(\"Average Accuracy for 100% Training Data: \", average_accuracy100)\n",
    "print(\"Average F-1 Accuracy for 100% Training Data: \", average_F1100)"
   ]
  },
  {
   "cell_type": "markdown",
   "id": "6789b21f",
   "metadata": {},
   "source": [
    "### Plots of Average Scores"
   ]
  },
  {
   "cell_type": "code",
   "execution_count": 282,
   "id": "7ee90dc9",
   "metadata": {},
   "outputs": [
    {
     "data": {
      "image/png": "[encoded data removed]",
      "text/plain": [
       "<Figure size 432x288 with 1 Axes>"
      ]
     },
     "metadata": {
      "needs_background": "light"
     },
     "output_type": "display_data"
    }
   ],
   "source": [
    "#Import libraries\n",
    "import matplotlib.pyplot as plt\n",
    "\n",
    "#Set what to plot for the x/y axis\n",
    "xAxis = [average_accuracy20, average_accuracy40, average_accuracy60, average_accuracy80, average_accuracy100]\n",
    "yAxis = [20, 40, 60, 80, 100]\n",
    "\n",
    "#Set graph title, x-axis title, y-axis title, and plot the line graph\n",
    "plt.plot(xAxis,yAxis, color = 'green', marker = 'o')\n",
    "plt.title('Average Prediction Accuracy for Amount of Training Data')\n",
    "plt.xlabel('Prediction Accuracy')\n",
    "plt.ylabel('Amount of Training Data Used')\n",
    "plt.show()"
   ]
  },
  {
   "cell_type": "code",
   "execution_count": 283,
   "id": "3466d30e",
   "metadata": {},
   "outputs": [
    {
     "data": {
      "image/png": "[encoded data removed]",
      "text/plain": [
       "<Figure size 432x288 with 1 Axes>"
      ]
     },
     "metadata": {
      "needs_background": "light"
     },
     "output_type": "display_data"
    }
   ],
   "source": [
    "#Set what to plot for the x/y axis\n",
    "xAxis = [0.7433333333333333, 0.7833333333333333, 0.7833333333333333, 0.7966666666666667, 0.7933333333333333]\n",
    "yAxis = [20, 40, 60, 80, 100]\n",
    "\n",
    "#Set graph title, x-axis title, y-axis title, and plot the line graph\n",
    "plt.plot(xAxis,yAxis, color = 'blue', marker = 'o')\n",
    "plt.title('Average F-1 Accuracy for Amount of Training Data')\n",
    "plt.xlabel('F-1 Accuracy')\n",
    "plt.ylabel('Amount of Training Data Used')\n",
    "plt.show()"
   ]
  }
 ],
 "metadata": {
  "kernelspec": {
   "display_name": "Python 3 (ipykernel)",
   "language": "python",
   "name": "python3"
  },
  "language_info": {
   "codemirror_mode": {
    "name": "ipython",
    "version": 3
   },
   "file_extension": ".py",
   "mimetype": "text/x-python",
   "name": "python",
   "nbconvert_exporter": "python",
   "pygments_lexer": "ipython3",
   "version": "3.8.8"
  }
 },
 "nbformat": 4,
 "nbformat_minor": 5
}
