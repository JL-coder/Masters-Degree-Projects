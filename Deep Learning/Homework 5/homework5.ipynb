{
 "cells": [
  {
   "cell_type": "code",
   "execution_count": 23,
   "id": "d9004b1e",
   "metadata": {},
   "outputs": [],
   "source": [
    "import tensorflow as tf\n",
    "import numpy as np\n",
    "import matplotlib.pyplot as plt\n"
   ]
  },
  {
   "cell_type": "code",
   "execution_count": 24,
   "id": "ade52c61",
   "metadata": {},
   "outputs": [
    {
     "name": "stdout",
     "output_type": "stream",
     "text": [
      "xTrain shape:  (60000, 28, 28) yTrain shape:  (60000,)\n"
     ]
    }
   ],
   "source": [
    "(xTrain, yTrain), (xTest, yTest) = tf.keras.datasets.fashion_mnist.load_data()\n",
    "print(\"xTrain shape: \", xTrain.shape, \"yTrain shape: \", yTrain.shape)\n"
   ]
  },
  {
   "cell_type": "code",
   "execution_count": 25,
   "id": "568bcb5d",
   "metadata": {},
   "outputs": [
    {
     "data": {
      "text/plain": [
       "<matplotlib.image.AxesImage at 0x7f334c3ca220>"
      ]
     },
     "execution_count": 25,
     "metadata": {},
     "output_type": "execute_result"
    },
    {
     "data": {
      "image/png": "[encoded data removed]",
      "text/plain": [
       "<Figure size 432x288 with 1 Axes>"
      ]
     },
     "metadata": {
      "needs_background": "light"
     },
     "output_type": "display_data"
    }
   ],
   "source": [
    "plt.imshow(xTrain[6000])"
   ]
  },
  {
   "cell_type": "code",
   "execution_count": 26,
   "id": "3659d786",
   "metadata": {},
   "outputs": [],
   "source": [
    "#normalize data\n",
    "xTrain = xTrain.astype('float32') / 255\n",
    "xTest = xTest.astype('float32') / 255\n"
   ]
  },
  {
   "cell_type": "code",
   "execution_count": 27,
   "id": "0e6b4032",
   "metadata": {},
   "outputs": [],
   "source": [
    "#Split into training and validation sets\n",
    "(xTrain, xValid) = xTrain[5000:], xTrain[:5000]\n",
    "(yTrain, yValid) = yTrain[5000:], yTrain[:5000]\n"
   ]
  },
  {
   "cell_type": "code",
   "execution_count": 28,
   "id": "8836211b",
   "metadata": {},
   "outputs": [
    {
     "name": "stdout",
     "output_type": "stream",
     "text": [
      "(55000, 28, 28, 1)\n"
     ]
    }
   ],
   "source": [
    "#Reshape the input from (28, 28) to (28, 28, 1)\n",
    "w, h = 28, 28\n",
    "xTrain = xTrain.reshape(xTrain.shape[0], w, h, 1)\n",
    "print(xTrain.shape)\n",
    "xValid = xValid.reshape(xValid.shape[0], w, h, 1)\n",
    "xTest = xTest.reshape(xTest.shape[0], w, h, 1)\n"
   ]
  },
  {
   "cell_type": "code",
   "execution_count": 29,
   "id": "830a60be",
   "metadata": {},
   "outputs": [],
   "source": [
    "#One-hot endcode the labels\n",
    "#There are 10 different categories\n",
    "yTrain = tf.keras.utils.to_categorical(yTrain, 10)\n",
    "yValid = tf.keras.utils.to_categorical(yValid, 10)\n",
    "yTest = tf.keras.utils.to_categorical(yTest, 10)"
   ]
  },
  {
   "cell_type": "code",
   "execution_count": 30,
   "id": "4d8898d8",
   "metadata": {},
   "outputs": [],
   "source": [
    "#Create model\n",
    "model = tf.keras.Sequential()\n",
    "\n",
    "#Get input shape in first layer of the NN\n",
    "model.add(tf.keras.layers.Conv2D(filters = 64, kernel_size = 2, padding = 'same', activation = 'relu', input_shape = (28, 28, 1)))\n",
    "#Adding a stride length of 1 to maxpool layers helps!\n",
    "model.add(tf.keras.layers.MaxPooling2D(pool_size=2, strides = 1))\n",
    "model.add(tf.keras.layers.Dropout(0.3))\n",
    "#Second layer\n",
    "model.add(tf.keras.layers.Conv2D(filters = 32, kernel_size = 2, padding = 'same', activation = 'relu'))\n",
    "#Adding a stride length of 1 to maxpool layers helps!\n",
    "model.add(tf.keras.layers.MaxPool2D(pool_size = 2, strides = 1))\n",
    "model.add(tf.keras.layers.Dropout(0.3))\n",
    "#Add third layer -- attempt to get test accuracy above 92% (right now at 91%) -- accuracy down to 88%\n",
    "'''\n",
    "model.add(tf.keras.layers.Conv2D(filters = 16, kernel_size = 2, padding = 'same', activation = 'relu'))\n",
    "model.add(tf.keras.layers.MaxPool2D(pool_size = 2))\n",
    "model.add(tf.keras.layers.Dropout(0.3))\n",
    "'''\n",
    "#Output layer\n",
    "model.add(tf.keras.layers.Flatten())\n",
    "model.add(tf.keras.layers.Dense(256, activation = 'relu'))\n",
    "model.add(tf.keras.layers.Dropout(0.5))\n",
    "model.add(tf.keras.layers.Dense(10, activation = 'softmax'))"
   ]
  },
  {
   "cell_type": "code",
   "execution_count": 31,
   "id": "90465def",
   "metadata": {},
   "outputs": [
    {
     "name": "stdout",
     "output_type": "stream",
     "text": [
      "Model: \"sequential_2\"\n",
      "_________________________________________________________________\n",
      " Layer (type)                Output Shape              Param #   \n",
      "=================================================================\n",
      " conv2d_4 (Conv2D)           (None, 28, 28, 64)        320       \n",
      "                                                                 \n",
      " max_pooling2d_4 (MaxPooling  (None, 27, 27, 64)       0         \n",
      " 2D)                                                             \n",
      "                                                                 \n",
      " dropout_6 (Dropout)         (None, 27, 27, 64)        0         \n",
      "                                                                 \n",
      " conv2d_5 (Conv2D)           (None, 27, 27, 32)        8224      \n",
      "                                                                 \n",
      " max_pooling2d_5 (MaxPooling  (None, 26, 26, 32)       0         \n",
      " 2D)                                                             \n",
      "                                                                 \n",
      " dropout_7 (Dropout)         (None, 26, 26, 32)        0         \n",
      "                                                                 \n",
      " flatten_2 (Flatten)         (None, 21632)             0         \n",
      "                                                                 \n",
      " dense_4 (Dense)             (None, 256)               5538048   \n",
      "                                                                 \n",
      " dropout_8 (Dropout)         (None, 256)               0         \n",
      "                                                                 \n",
      " dense_5 (Dense)             (None, 10)                2570      \n",
      "                                                                 \n",
      "=================================================================\n",
      "Total params: 5,549,162\n",
      "Trainable params: 5,549,162\n",
      "Non-trainable params: 0\n",
      "_________________________________________________________________\n"
     ]
    }
   ],
   "source": [
    "#Summary\n",
    "model.summary()"
   ]
  },
  {
   "cell_type": "code",
   "execution_count": 32,
   "id": "8af89509",
   "metadata": {},
   "outputs": [],
   "source": [
    "#Compile model\n",
    "model.compile(loss = 'categorical_crossentropy', optimizer = 'adam', metrics = ['accuracy'])\n"
   ]
  },
  {
   "cell_type": "code",
   "execution_count": 33,
   "id": "fb667fbc",
   "metadata": {},
   "outputs": [
    {
     "name": "stdout",
     "output_type": "stream",
     "text": [
      "Epoch 1/10\n"
     ]
    },
    {
     "name": "stderr",
     "output_type": "stream",
     "text": [
      "2022-10-11 09:07:06.071206: I tensorflow/stream_executor/cuda/cuda_dnn.cc:384] Loaded cuDNN version 8201\n",
      "2022-10-11 09:07:06.724791: W tensorflow/stream_executor/gpu/asm_compiler.cc:111] *** WARNING *** You are using ptxas 10.1.243, which is older than 11.1. ptxas before 11.1 is known to miscompile XLA code, leading to incorrect results or invalid-address errors.\n",
      "\n",
      "You may not need to update to CUDA 11.1; cherry-picking the ptxas binary is often sufficient.\n",
      "2022-10-11 09:07:06.725956: W tensorflow/stream_executor/gpu/asm_compiler.cc:230] Falling back to the CUDA driver for PTX compilation; ptxas does not support CC 8.6\n",
      "2022-10-11 09:07:06.725963: W tensorflow/stream_executor/gpu/asm_compiler.cc:233] Used ptxas at ptxas\n",
      "2022-10-11 09:07:06.725997: W tensorflow/stream_executor/gpu/redzone_allocator.cc:314] UNIMPLEMENTED: ptxas ptxas too old. Falling back to the driver to compile.\n",
      "Relying on driver to perform ptx compilation. \n",
      "Modify $PATH to customize ptxas location.\n",
      "This message will be only logged once.\n",
      "2022-10-11 09:07:07.324867: I tensorflow/stream_executor/cuda/cuda_blas.cc:1614] TensorFloat-32 will be used for the matrix multiplication. This will only be logged once.\n"
     ]
    },
    {
     "name": "stdout",
     "output_type": "stream",
     "text": [
      "860/860 [==============================] - ETA: 0s - loss: 0.4893 - accuracy: 0.8236\n",
      "Epoch 1: val_loss improved from inf to 0.31657, saving model to model.weights.best.hdf5\n",
      "860/860 [==============================] - 31s 33ms/step - loss: 0.4893 - accuracy: 0.8236 - val_loss: 0.3166 - val_accuracy: 0.8868\n",
      "Epoch 2/10\n",
      "859/860 [============================>.] - ETA: 0s - loss: 0.3382 - accuracy: 0.8788\n",
      "Epoch 2: val_loss improved from 0.31657 to 0.27397, saving model to model.weights.best.hdf5\n",
      "860/860 [==============================] - 29s 33ms/step - loss: 0.3381 - accuracy: 0.8788 - val_loss: 0.2740 - val_accuracy: 0.9018\n",
      "Epoch 3/10\n",
      "859/860 [============================>.] - ETA: 0s - loss: 0.2919 - accuracy: 0.8917\n",
      "Epoch 3: val_loss improved from 0.27397 to 0.25273, saving model to model.weights.best.hdf5\n",
      "860/860 [==============================] - 29s 33ms/step - loss: 0.2919 - accuracy: 0.8917 - val_loss: 0.2527 - val_accuracy: 0.9110\n",
      "Epoch 4/10\n",
      "859/860 [============================>.] - ETA: 0s - loss: 0.2615 - accuracy: 0.9042\n",
      "Epoch 4: val_loss improved from 0.25273 to 0.23051, saving model to model.weights.best.hdf5\n",
      "860/860 [==============================] - 29s 33ms/step - loss: 0.2618 - accuracy: 0.9041 - val_loss: 0.2305 - val_accuracy: 0.9154\n",
      "Epoch 5/10\n",
      "859/860 [============================>.] - ETA: 0s - loss: 0.2371 - accuracy: 0.9123\n",
      "Epoch 5: val_loss improved from 0.23051 to 0.20376, saving model to model.weights.best.hdf5\n",
      "860/860 [==============================] - 29s 33ms/step - loss: 0.2371 - accuracy: 0.9123 - val_loss: 0.2038 - val_accuracy: 0.9264\n",
      "Epoch 6/10\n",
      "859/860 [============================>.] - ETA: 0s - loss: 0.2199 - accuracy: 0.9182\n",
      "Epoch 6: val_loss improved from 0.20376 to 0.19705, saving model to model.weights.best.hdf5\n",
      "860/860 [==============================] - 29s 34ms/step - loss: 0.2200 - accuracy: 0.9181 - val_loss: 0.1970 - val_accuracy: 0.9254\n",
      "Epoch 7/10\n",
      "859/860 [============================>.] - ETA: 0s - loss: 0.2020 - accuracy: 0.9254\n",
      "Epoch 7: val_loss did not improve from 0.19705\n",
      "860/860 [==============================] - 29s 34ms/step - loss: 0.2020 - accuracy: 0.9254 - val_loss: 0.1991 - val_accuracy: 0.9274\n",
      "Epoch 8/10\n",
      "859/860 [============================>.] - ETA: 0s - loss: 0.1858 - accuracy: 0.9316\n",
      "Epoch 8: val_loss did not improve from 0.19705\n",
      "860/860 [==============================] - 29s 34ms/step - loss: 0.1858 - accuracy: 0.9316 - val_loss: 0.2028 - val_accuracy: 0.9240\n",
      "Epoch 9/10\n",
      "859/860 [============================>.] - ETA: 0s - loss: 0.1761 - accuracy: 0.9334\n",
      "Epoch 9: val_loss improved from 0.19705 to 0.19180, saving model to model.weights.best.hdf5\n",
      "860/860 [==============================] - 29s 34ms/step - loss: 0.1760 - accuracy: 0.9334 - val_loss: 0.1918 - val_accuracy: 0.9324\n",
      "Epoch 10/10\n",
      "859/860 [============================>.] - ETA: 0s - loss: 0.1667 - accuracy: 0.9374\n",
      "Epoch 10: val_loss improved from 0.19180 to 0.18758, saving model to model.weights.best.hdf5\n",
      "860/860 [==============================] - 29s 34ms/step - loss: 0.1667 - accuracy: 0.9374 - val_loss: 0.1876 - val_accuracy: 0.9354\n"
     ]
    },
    {
     "data": {
      "text/plain": [
       "<keras.callbacks.History at 0x7f334c3ed850>"
      ]
     },
     "execution_count": 33,
     "metadata": {},
     "output_type": "execute_result"
    }
   ],
   "source": [
    "from keras.callbacks import ModelCheckpoint\n",
    "checkpointer = ModelCheckpoint(filepath = 'model.weights.best.hdf5', verbose = 1, save_best_only = True)\n",
    "#Train the model\n",
    "model.fit(xTrain, yTrain, batch_size = 64, epochs = 10, validation_data = (xValid, yValid), callbacks = [checkpointer])"
   ]
  },
  {
   "cell_type": "code",
   "execution_count": 34,
   "id": "1c02718d",
   "metadata": {},
   "outputs": [
    {
     "name": "stdout",
     "output_type": "stream",
     "text": [
      "\n",
      " Test accuracy:  0.9279999732971191\n"
     ]
    }
   ],
   "source": [
    "#Load model with best validation accuracy\n",
    "model.load_weights(\"model.weights.best.hdf5\")\n",
    "#Test accuracy\n",
    "score = model.evaluate(xTest, yTest, verbose = 0)\n",
    "print('\\n', 'Test accuracy: ', score[1])"
   ]
  },
  {
   "cell_type": "code",
   "execution_count": 35,
   "id": "07738ed7",
   "metadata": {},
   "outputs": [
    {
     "name": "stdout",
     "output_type": "stream",
     "text": [
      "Model: \"sequential_3\"\n",
      "_________________________________________________________________\n",
      " Layer (type)                Output Shape              Param #   \n",
      "=================================================================\n",
      " conv2d_6 (Conv2D)           (None, 26, 26, 64)        640       \n",
      "                                                                 \n",
      " max_pooling2d_6 (MaxPooling  (None, 13, 13, 64)       0         \n",
      " 2D)                                                             \n",
      "                                                                 \n",
      " re_lu (ReLU)                (None, 13, 13, 64)        0         \n",
      "                                                                 \n",
      " flatten_3 (Flatten)         (None, 10816)             0         \n",
      "                                                                 \n",
      " dense_6 (Dense)             (None, 1024)              11076608  \n",
      "                                                                 \n",
      " re_lu_1 (ReLU)              (None, 1024)              0         \n",
      "                                                                 \n",
      " dense_7 (Dense)             (None, 10)                10250     \n",
      "                                                                 \n",
      " softmax (Softmax)           (None, 10)                0         \n",
      "                                                                 \n",
      "=================================================================\n",
      "Total params: 11,087,498\n",
      "Trainable params: 11,087,498\n",
      "Non-trainable params: 0\n",
      "_________________________________________________________________\n"
     ]
    }
   ],
   "source": [
    "# ## 2. Representing a Convolutional NN as a Fully-Connected NN\n",
    "'''\n",
    "Implement!\n",
    "• Convolution layer with 64 filters, each 3x3, stride of 1 (i.e., apply the filter at all pixel locations),\n",
    "no padding.\n",
    "• Max pool with a pooling width of 2x2, stride of 2, no padding.\n",
    "• ReLU.\n",
    "• Flatten the 64 feature maps into one long vector.\n",
    "• Fully-connected layer to map into a 1024-dimensional vector.\n",
    "• ReLU.\n",
    "• Fully-connected layer to map into a 10-dimensional vector.\n",
    "• Softmax.\n",
    "'''\n",
    "\n",
    "model_p2 = tf.keras.Sequential()\n",
    "\n",
    "#Get input shape in first layer of the NN\n",
    "model_p2.add(tf.keras.layers.Conv2D(filters = 64, kernel_size = 3, strides = 1, padding = 'valid', input_shape = (28, 28, 1)))\n",
    "model_p2.add(tf.keras.layers.MaxPooling2D(pool_size=2, strides = 2, padding = 'valid'))\n",
    "model_p2.add(tf.keras.layers.ReLU())\n",
    "model_p2.add(tf.keras.layers.Flatten())\n",
    "model_p2.add(tf.keras.layers.Dense(1024))\n",
    "model_p2.add(tf.keras.layers.ReLU())\n",
    "model_p2.add(tf.keras.layers.Dense(10))\n",
    "model_p2.add(tf.keras.layers.Softmax())\n",
    "\n",
    "#Summary\n",
    "model_p2.summary()\n"
   ]
  },
  {
   "cell_type": "code",
   "execution_count": 48,
   "id": "8e98b77c",
   "metadata": {
    "scrolled": true
   },
   "outputs": [
    {
     "name": "stdout",
     "output_type": "stream",
     "text": [
      "Epoch 1/5\n",
      "852/860 [============================>.] - ETA: 0s - loss: 0.0353 - accuracy: 0.9875\n",
      "Epoch 1: val_loss improved from inf to 0.41162, saving model to model_p2.weights.best.hd5\n"
     ]
    },
    {
     "name": "stderr",
     "output_type": "stream",
     "text": [
      "WARNING:absl:Found untraced functions such as _jit_compiled_convolution_op while saving (showing 1 of 1). These functions will not be directly callable after loading.\n"
     ]
    },
    {
     "name": "stdout",
     "output_type": "stream",
     "text": [
      "INFO:tensorflow:Assets written to: model_p2.weights.best.hd5/assets\n"
     ]
    },
    {
     "name": "stderr",
     "output_type": "stream",
     "text": [
      "INFO:tensorflow:Assets written to: model_p2.weights.best.hd5/assets\n"
     ]
    },
    {
     "name": "stdout",
     "output_type": "stream",
     "text": [
      "860/860 [==============================] - 3s 4ms/step - loss: 0.0351 - accuracy: 0.9875 - val_loss: 0.4116 - val_accuracy: 0.9192\n",
      "Epoch 2/5\n",
      "859/860 [============================>.] - ETA: 0s - loss: 0.0221 - accuracy: 0.9932\n",
      "Epoch 2: val_loss did not improve from 0.41162\n",
      "860/860 [==============================] - 2s 3ms/step - loss: 0.0221 - accuracy: 0.9932 - val_loss: 0.4152 - val_accuracy: 0.9246\n",
      "Epoch 3/5\n",
      "857/860 [============================>.] - ETA: 0s - loss: 0.0158 - accuracy: 0.9949\n",
      "Epoch 3: val_loss did not improve from 0.41162\n",
      "860/860 [==============================] - 2s 3ms/step - loss: 0.0159 - accuracy: 0.9949 - val_loss: 0.4592 - val_accuracy: 0.9222\n",
      "Epoch 4/5\n",
      "857/860 [============================>.] - ETA: 0s - loss: 0.0205 - accuracy: 0.9929\n",
      "Epoch 4: val_loss did not improve from 0.41162\n",
      "860/860 [==============================] - 2s 3ms/step - loss: 0.0206 - accuracy: 0.9929 - val_loss: 0.4818 - val_accuracy: 0.9168\n",
      "Epoch 5/5\n",
      "859/860 [============================>.] - ETA: 0s - loss: 0.0111 - accuracy: 0.9963\n",
      "Epoch 5: val_loss did not improve from 0.41162\n",
      "860/860 [==============================] - 2s 3ms/step - loss: 0.0111 - accuracy: 0.9963 - val_loss: 0.5166 - val_accuracy: 0.9148\n"
     ]
    },
    {
     "data": {
      "text/plain": [
       "<keras.callbacks.History at 0x7f33cb8d7b50>"
      ]
     },
     "execution_count": 48,
     "metadata": {},
     "output_type": "execute_result"
    }
   ],
   "source": [
    "#Compile model\n",
    "model_p2.compile(loss = 'categorical_crossentropy', optimizer = 'adam', metrics = ['accuracy'])\n",
    "\n",
    "from keras.callbacks import ModelCheckpoint\n",
    "checkpointer = ModelCheckpoint(filepath = 'model_p2.weights.best.hd5', verbose = 1, save_best_only = True)\n",
    "#Train the model\n",
    "model_p2.fit(xTrain, yTrain, batch_size = 64, epochs = 5, validation_data = (xValid, yValid), callbacks = [checkpointer])"
   ]
  },
  {
   "cell_type": "code",
   "execution_count": 51,
   "id": "65e2d4db",
   "metadata": {
    "scrolled": false
   },
   "outputs": [
    {
     "name": "stderr",
     "output_type": "stream",
     "text": [
      "2022-10-11 09:53:03.263605: W tensorflow/core/util/tensor_slice_reader.cc:96] Could not open model_p2.weights.best.hd5: FAILED_PRECONDITION: model_p2.weights.best.hd5; Is a directory: perhaps your file is in a different file format and you need to use a different restore operator?\n"
     ]
    },
    {
     "data": {
      "text/plain": [
       "[<tf.Variable 'conv2d_6/kernel:0' shape=(3, 3, 1, 64) dtype=float32, numpy=\n",
       " array([[[[-1.04539253e-01,  2.70383537e-01, -5.85448742e-01,\n",
       "            1.27387978e-03,  1.48736566e-01,  9.87166017e-02,\n",
       "            2.23625019e-01,  1.60570256e-02, -6.83005452e-02,\n",
       "           -1.17079116e-01, -1.27366766e-01, -6.93736494e-01,\n",
       "            2.85533797e-02,  7.56675079e-02,  1.41028449e-01,\n",
       "           -6.45112991e-02,  7.25964233e-02, -1.50383025e-01,\n",
       "           -2.41791382e-01,  1.07670926e-01,  1.00644134e-01,\n",
       "           -2.26527303e-01, -2.18907714e-01,  1.47401914e-01,\n",
       "           -8.88943970e-02,  2.32141867e-01,  3.34302373e-02,\n",
       "           -4.50114384e-02,  7.97282606e-02, -6.48149699e-02,\n",
       "            2.69812614e-01, -1.89837888e-02, -4.16925430e-01,\n",
       "            1.42986387e-01, -1.40786558e-01,  4.78445925e-02,\n",
       "           -1.88920572e-01, -1.79903314e-01,  9.55820456e-03,\n",
       "           -7.44555816e-02, -9.50874388e-02, -1.75591633e-01,\n",
       "           -2.18720898e-01, -8.32436308e-02,  2.42846478e-02,\n",
       "            1.56584769e-01,  4.73731458e-02,  1.73621550e-01,\n",
       "           -9.07960236e-02, -1.18099160e-01, -1.37731835e-01,\n",
       "           -3.38331014e-02,  2.22221896e-01, -8.30934718e-02,\n",
       "            3.58152539e-01, -4.06484157e-02, -2.52211571e-01,\n",
       "           -1.40339077e-01,  9.72249657e-02,  2.36435384e-01,\n",
       "            1.10893957e-01, -5.71058318e-02, -9.04670637e-03,\n",
       "            1.78491339e-01]],\n",
       " \n",
       "         [[ 7.98137188e-02, -3.03125262e-01,  2.21286014e-01,\n",
       "            1.49150342e-01,  8.41734931e-02, -1.12536666e-03,\n",
       "           -1.96325764e-01,  2.89241701e-01,  5.70406355e-02,\n",
       "           -4.24551666e-02,  9.78301242e-02, -9.47674692e-01,\n",
       "           -3.33518311e-02, -4.46854860e-01,  1.73758566e-01,\n",
       "            5.72344996e-02, -2.34773889e-01, -1.14645086e-01,\n",
       "           -7.21183196e-02, -8.78676921e-02, -2.84887671e-01,\n",
       "           -2.03986213e-01,  1.48810595e-01, -1.75855502e-01,\n",
       "            1.08762145e-01, -8.61674100e-02,  1.40859066e-02,\n",
       "           -1.34615704e-01, -1.76124498e-01, -2.80405968e-01,\n",
       "           -1.04697961e-02, -2.65149698e-02,  1.12499230e-01,\n",
       "            2.45899990e-01, -2.75103569e-01, -1.38895765e-01,\n",
       "            3.01734507e-01,  1.54204577e-01,  2.69652903e-01,\n",
       "           -9.41833630e-02, -9.31027830e-02,  2.69045025e-01,\n",
       "           -9.10272121e-01, -1.73608810e-01, -6.98623508e-02,\n",
       "            3.15917842e-02,  1.11799855e-02, -3.04511189e-01,\n",
       "            2.16929644e-01, -5.73328912e-01, -3.03876162e-01,\n",
       "            1.28713027e-01,  1.71299413e-01, -1.72889873e-01,\n",
       "            3.53647955e-02,  1.40868807e-02,  2.20925704e-01,\n",
       "           -1.63413063e-01, -8.37401580e-03, -1.62384048e-01,\n",
       "            6.16222695e-02, -2.36502327e-02,  2.03164935e-01,\n",
       "            4.11867276e-02]],\n",
       " \n",
       "         [[ 9.84668881e-02, -2.29814932e-01,  3.32600951e-01,\n",
       "           -1.63152888e-01,  1.32213801e-01, -9.38783437e-02,\n",
       "           -4.09106072e-03, -3.43671590e-01,  5.53652868e-02,\n",
       "            1.20102771e-01,  1.91536963e-01, -8.77990797e-02,\n",
       "           -6.48796782e-02, -4.71227974e-01, -1.64326712e-01,\n",
       "            2.32990980e-02,  1.28495768e-02,  2.24602073e-01,\n",
       "           -7.51961291e-01,  8.69814306e-02,  2.26231337e-01,\n",
       "            1.48160458e-01,  1.58284113e-01,  1.76902160e-01,\n",
       "            1.35528654e-01, -1.89092174e-01,  5.70148341e-02,\n",
       "            1.50355816e-01,  9.47775543e-02, -3.60118449e-02,\n",
       "           -2.73792535e-01, -6.01686537e-02, -1.36822864e-01,\n",
       "           -3.08668554e-01,  4.98666435e-01,  7.12039322e-02,\n",
       "           -1.22323215e-01, -2.86729008e-01, -1.35956198e-01,\n",
       "            7.41403848e-02, -2.63573647e-01, -2.57837236e-01,\n",
       "           -1.19739577e-01,  1.32981524e-01, -2.95429140e-01,\n",
       "           -2.76819170e-01,  3.62487114e-03,  1.98805541e-01,\n",
       "           -1.07702158e-01, -4.42689747e-01,  3.40975583e-01,\n",
       "            5.52680977e-02, -3.12990487e-01, -1.67297363e-01,\n",
       "           -8.17269310e-02,  5.63002452e-02, -3.87645572e-01,\n",
       "            2.33081594e-01, -8.24792907e-02,  1.26629267e-02,\n",
       "           -1.45036906e-01, -5.07428199e-02, -3.55276555e-01,\n",
       "            2.98833977e-02]]],\n",
       " \n",
       " \n",
       "        [[[ 2.04354689e-01, -1.27406657e-01, -2.69682296e-02,\n",
       "           -7.30314180e-02, -3.48010957e-02, -2.15205938e-01,\n",
       "            1.28702283e-01,  1.89795643e-01, -2.33836681e-01,\n",
       "           -3.68902436e-03,  2.15769857e-01, -4.04615663e-02,\n",
       "           -7.43641034e-02, -5.65179586e-02,  2.24851727e-01,\n",
       "           -1.62624553e-01,  1.40288144e-01, -4.06042859e-02,\n",
       "           -2.07867827e-02, -8.56570080e-02, -1.56522557e-01,\n",
       "           -2.21919015e-01,  3.41683686e-01,  1.08034447e-01,\n",
       "           -2.03528821e-01,  3.15216668e-02, -1.14115112e-01,\n",
       "            1.73812017e-01, -7.13939453e-03, -1.55855596e-01,\n",
       "            1.37054063e-02, -9.75930989e-02, -1.69240937e-01,\n",
       "           -2.27548070e-02, -2.98619032e-01,  5.63287437e-02,\n",
       "           -1.03000149e-01, -1.07404135e-01, -3.18818577e-02,\n",
       "            1.19652100e-01,  3.42348181e-02, -3.03382017e-02,\n",
       "           -7.92044252e-02,  1.02804013e-01, -8.71142298e-02,\n",
       "           -2.05382064e-01,  1.16099818e-02,  2.54290365e-02,\n",
       "            1.26885563e-01, -1.95393935e-01,  3.34593914e-02,\n",
       "           -5.21133900e-01, -1.70668378e-01, -7.31730834e-02,\n",
       "            5.66331372e-02, -6.64612558e-03,  1.74538583e-01,\n",
       "            2.21887425e-01, -1.11437872e-01, -2.15980902e-01,\n",
       "           -1.74474820e-01, -7.05049336e-02, -3.54495108e-01,\n",
       "            9.07237455e-02]],\n",
       " \n",
       "         [[ 1.15086660e-01,  1.29836231e-01,  4.56679836e-02,\n",
       "            1.48083806e-01, -9.06366706e-02,  2.97531456e-01,\n",
       "           -1.26992971e-01, -1.68658912e-01,  2.78703362e-01,\n",
       "           -2.42661431e-01, -8.92984197e-02,  1.61431043e-03,\n",
       "            1.13902293e-01, -3.23275238e-01, -2.81487614e-01,\n",
       "            1.62179247e-01,  4.17720079e-02,  1.66548818e-01,\n",
       "           -1.28069222e-01, -1.74857043e-02,  1.91705361e-01,\n",
       "            2.20777348e-01, -8.01517516e-02,  3.88904139e-02,\n",
       "            6.54956251e-02,  4.53470424e-02, -7.18250722e-02,\n",
       "           -4.06041555e-02,  4.35227808e-03,  2.86271125e-01,\n",
       "           -2.52146333e-01,  1.01098314e-01,  2.61461079e-01,\n",
       "           -3.91397141e-02, -3.18484724e-01, -1.00957058e-01,\n",
       "            4.01181012e-01,  2.49010265e-01, -1.03054658e-01,\n",
       "            1.55586302e-01,  1.90160587e-01, -6.60069510e-02,\n",
       "           -5.65045834e-01,  9.30077061e-02,  2.72325754e-01,\n",
       "            3.31372052e-01,  2.53749609e-01, -1.41591579e-01,\n",
       "            3.03103551e-02, -2.10899338e-01,  1.00942291e-01,\n",
       "            2.58523077e-02,  1.23325594e-01, -1.74700357e-02,\n",
       "           -4.33535039e-01, -1.82802215e-01, -7.06659863e-03,\n",
       "           -2.68795043e-01,  2.04992726e-01, -8.96752924e-02,\n",
       "           -8.32698867e-02,  1.77074841e-03,  1.53542161e-01,\n",
       "           -3.03895086e-01]],\n",
       " \n",
       "         [[-2.52727214e-02,  2.87828177e-01,  3.56360525e-02,\n",
       "           -6.79735690e-02, -1.18104421e-01, -1.05093278e-01,\n",
       "           -4.29003593e-03,  2.55775392e-01, -8.20549950e-02,\n",
       "           -3.00649762e-01, -1.33103192e-01,  1.84504464e-01,\n",
       "           -3.30560595e-01, -4.69463468e-01,  9.12631303e-03,\n",
       "            2.39326395e-02, -1.56602725e-01,  8.46628472e-03,\n",
       "           -2.36078814e-01, -2.10557833e-01, -6.97931722e-02,\n",
       "            1.09438315e-01, -2.88498372e-01, -2.06515595e-01,\n",
       "            1.31964162e-01, -1.75715256e-02,  1.64257780e-01,\n",
       "            1.40788540e-01,  9.18130800e-02, -7.46122450e-02,\n",
       "           -4.50486094e-02, -1.19530223e-01, -2.64318705e-01,\n",
       "           -5.40053666e-01, -2.62823164e-01, -3.74879390e-02,\n",
       "           -3.23408663e-01, -1.52046904e-01, -3.71377617e-01,\n",
       "            5.08776642e-02, -7.69910440e-02,  1.57100543e-01,\n",
       "           -6.44387126e-01, -2.50316530e-01,  2.22297028e-01,\n",
       "            3.19027863e-02, -2.48548403e-01, -8.41144025e-02,\n",
       "           -1.57133028e-01, -6.01492107e-01, -3.02068084e-01,\n",
       "            6.04364499e-02, -1.74082637e-01,  1.64858550e-01,\n",
       "           -1.91948056e-01,  2.04286844e-01,  4.51336764e-02,\n",
       "            1.28881529e-01, -9.53026209e-03,  3.11935041e-03,\n",
       "            2.95752645e-01, -6.93845078e-02,  1.27447203e-01,\n",
       "            1.92821659e-02]]],\n",
       " \n",
       " \n",
       "        [[[-1.07655436e-01, -3.27745944e-01,  1.06405385e-01,\n",
       "           -2.82815039e-01, -1.22744367e-01,  1.19986363e-01,\n",
       "            1.64419541e-03, -1.22440876e-02,  2.80239820e-01,\n",
       "            2.26904601e-01,  5.25429100e-02,  2.81650037e-01,\n",
       "           -3.40368301e-01,  1.90052062e-01, -2.34271362e-01,\n",
       "           -1.19288675e-01, -2.80808389e-01,  5.05739972e-02,\n",
       "            2.33175993e-01, -2.33994704e-02,  3.46394256e-02,\n",
       "            1.39083967e-01, -1.26729742e-01, -2.40347400e-01,\n",
       "            2.35515833e-01, -2.81918198e-01, -8.49349499e-02,\n",
       "            1.78262349e-02,  7.58326948e-02,  1.33127898e-01,\n",
       "           -2.83969909e-01, -1.29627660e-01,  7.39956945e-02,\n",
       "            2.09811963e-02,  3.06724846e-01, -2.87204292e-02,\n",
       "           -1.35398850e-01, -1.39284611e-01,  1.20146438e-01,\n",
       "            1.03043811e-02,  2.62188856e-02,  1.51045844e-01,\n",
       "            2.72911340e-01, -2.21706018e-01,  4.34508584e-02,\n",
       "           -1.90707773e-01, -9.62051973e-02, -4.02414240e-02,\n",
       "            2.67832447e-02,  3.20304573e-01,  6.38262779e-02,\n",
       "           -2.05959171e-01, -3.24692339e-01, -9.41229016e-02,\n",
       "           -3.05910647e-01, -4.39723805e-02,  1.49547920e-01,\n",
       "            1.51100770e-01, -1.36544719e-01,  1.41624166e-02,\n",
       "            1.66488841e-01,  3.03327502e-03, -1.22338675e-01,\n",
       "           -5.19416928e-02]],\n",
       " \n",
       "         [[-2.67681777e-01,  1.27143472e-01, -5.12334526e-01,\n",
       "            2.40823835e-01, -2.45217904e-02, -2.81799316e-01,\n",
       "            3.26082408e-02, -4.12126392e-01, -2.70733535e-01,\n",
       "            2.60471106e-01, -1.29068971e-01, -1.08537991e-02,\n",
       "            2.21641272e-01,  5.75980060e-02, -2.24694222e-01,\n",
       "            1.19556278e-01,  1.38277737e-02, -1.14898048e-02,\n",
       "            7.13360533e-02, -1.10397443e-01,  8.46047178e-02,\n",
       "           -6.03992306e-02, -1.05105564e-02,  1.15500562e-01,\n",
       "            8.75535011e-02,  5.37374541e-02,  4.49949987e-02,\n",
       "           -1.89666033e-01, -1.26778811e-01,  6.18911833e-02,\n",
       "            2.77749509e-01,  6.99956417e-02,  2.17294574e-01,\n",
       "           -2.39827126e-01, -1.96545631e-01, -1.29268512e-01,\n",
       "           -5.49329370e-02,  1.10308424e-01, -1.88273326e-01,\n",
       "           -2.42571443e-01,  1.35204745e-02, -2.19509333e-01,\n",
       "           -9.36881676e-02,  1.50024623e-01, -2.57698774e-01,\n",
       "           -2.08650604e-02, -1.93458900e-01,  2.66805649e-01,\n",
       "            1.07451297e-01,  1.67483941e-01, -9.07651335e-03,\n",
       "            1.75066963e-01, -4.73525412e-02, -5.40760122e-02,\n",
       "           -8.64279330e-01, -4.12146188e-02, -1.69257790e-01,\n",
       "            1.18862409e-02,  5.60788028e-02,  2.61565000e-02,\n",
       "           -3.91704179e-02,  4.10323814e-02, -3.15097600e-01,\n",
       "           -4.39159311e-02]],\n",
       " \n",
       "         [[-1.22959130e-01, -4.89691570e-02, -4.19437855e-01,\n",
       "           -1.70031026e-01, -1.37093365e-02,  1.92642301e-01,\n",
       "           -2.81166267e-02,  7.79779479e-02, -5.42318784e-02,\n",
       "            9.72284898e-02, -1.44450054e-01, -1.25362784e-01,\n",
       "           -7.44629651e-03,  6.22148104e-02,  2.40416765e-01,\n",
       "            9.63567663e-03,  2.66970433e-02, -1.10663556e-01,\n",
       "            6.30966350e-02,  1.51801854e-01, -1.34754136e-01,\n",
       "           -1.83401391e-01,  9.14402381e-02,  2.02949643e-02,\n",
       "           -3.19734126e-01,  1.79969773e-01, -8.69338110e-04,\n",
       "           -9.37313288e-02,  6.17115237e-02, -1.40660733e-01,\n",
       "           -2.65209615e-01, -7.37412870e-02, -1.33793131e-01,\n",
       "           -4.51892614e-01, -3.57809126e-01, -2.76434096e-03,\n",
       "           -4.73640680e-01,  1.82791129e-02, -5.35305738e-02,\n",
       "           -2.42722407e-01, -4.86744158e-02,  1.10885799e-01,\n",
       "           -1.61681771e-01,  3.68864015e-02,  1.95788089e-02,\n",
       "            7.26867691e-02,  2.39981264e-01, -1.56215057e-02,\n",
       "           -1.30839184e-01, -8.26237798e-02, -6.78446591e-02,\n",
       "           -2.21306607e-01,  1.84036121e-01,  1.37654096e-01,\n",
       "           -5.74676096e-01,  8.12531188e-02,  3.20183784e-02,\n",
       "           -7.05062747e-02,  4.09741551e-02,  3.40416580e-02,\n",
       "           -1.38031930e-01, -2.02040579e-02,  2.80034304e-01,\n",
       "            1.84004992e-01]]]], dtype=float32)>,\n",
       " <tf.Variable 'conv2d_6/bias:0' shape=(64,) dtype=float32, numpy=\n",
       " array([-0.00628439, -0.01333905, -0.00578913, -0.00152837, -0.0241125 ,\n",
       "        -0.05209914, -0.00928467, -0.09956238, -0.03857973, -0.05009369,\n",
       "        -0.12839942, -0.00610118, -0.01909394, -0.01591574, -0.04297633,\n",
       "        -0.02286067, -0.06439022, -0.08611035, -0.00364615, -0.05945806,\n",
       "        -0.02946369, -0.04256488, -0.06269021, -0.05245214, -0.15660329,\n",
       "        -0.02293059, -0.10904637, -0.08176739, -0.12869747, -0.02974479,\n",
       "        -0.00526689, -0.12967849, -0.00529252, -0.01139656,  0.0123989 ,\n",
       "        -0.1387998 , -0.00671441, -0.00599215, -0.07006633, -0.04339365,\n",
       "        -0.01919934, -0.03841746,  0.01799911, -0.04459801, -0.02028557,\n",
       "        -0.0528242 , -0.0419076 , -0.12787703, -0.01152201, -0.00934515,\n",
       "        -0.00817028, -0.04479659, -0.00157828, -0.00526469, -0.00538715,\n",
       "        -0.01523667, -0.07429332, -0.14298713, -0.08774552, -0.08832082,\n",
       "        -0.02073002, -0.08418756, -0.02204933, -0.14528911], dtype=float32)>,\n",
       " <tf.Variable 'dense_6/kernel:0' shape=(10816, 1024) dtype=float32, numpy=\n",
       " array([[ 0.02578864,  0.0799867 ,  0.0159096 , ..., -0.02007268,\n",
       "         -0.00112231,  0.07257842],\n",
       "        [ 0.00861565,  0.02913255,  0.36496443, ...,  0.13178273,\n",
       "          0.00976327,  0.05715549],\n",
       "        [-0.01033283, -0.08180863,  0.07540556, ..., -0.02483858,\n",
       "         -0.01165787,  0.01872236],\n",
       "        ...,\n",
       "        [-0.00720536,  0.01344714, -0.01570717, ...,  0.00499905,\n",
       "          0.00073264,  0.01382438],\n",
       "        [ 0.02052257, -0.12647843, -0.00120037, ..., -0.11330252,\n",
       "         -0.00248957,  0.0445304 ],\n",
       "        [ 0.01672242,  0.04657477,  0.01185608, ..., -0.05119917,\n",
       "         -0.01739478, -0.0253225 ]], dtype=float32)>,\n",
       " <tf.Variable 'dense_6/bias:0' shape=(1024,) dtype=float32, numpy=\n",
       " array([-0.10167054, -0.03806736, -0.02378825, ..., -0.05642297,\n",
       "        -0.00602304, -0.05120328], dtype=float32)>,\n",
       " <tf.Variable 'dense_7/kernel:0' shape=(1024, 10) dtype=float32, numpy=\n",
       " array([[ 0.12224665, -0.2012665 , -0.07757136, ..., -0.07024854,\n",
       "         -0.1981768 , -0.06040149],\n",
       "        [-0.1161801 ,  0.01553887,  0.06856077, ..., -0.11276833,\n",
       "         -0.15271522, -0.09900316],\n",
       "        [ 0.15870231, -0.35278258, -0.11353426, ..., -0.06940254,\n",
       "          0.02393151, -0.16541965],\n",
       "        ...,\n",
       "        [-0.30434215, -0.2933846 , -0.4723946 , ..., -0.18385026,\n",
       "          0.15600294, -0.03801696],\n",
       "        [ 0.00473606,  0.00939134, -0.00811501, ..., -0.02355061,\n",
       "          0.03582275, -0.00209192],\n",
       "        [ 0.04974763, -0.24508607, -0.39704847, ...,  0.05316511,\n",
       "         -0.01251137, -0.29444087]], dtype=float32)>,\n",
       " <tf.Variable 'dense_7/bias:0' shape=(10,) dtype=float32, numpy=\n",
       " array([-0.0722294 , -0.11927673,  0.04637247,  0.06990504, -0.01890525,\n",
       "        -0.09533288,  0.03487135,  0.03717446, -0.0785021 , -0.01704174],\n",
       "       dtype=float32)>]"
      ]
     },
     "execution_count": 51,
     "metadata": {},
     "output_type": "execute_result"
    }
   ],
   "source": [
    "model_p2.load_weights('model_p2.weights.best.hd5')\n",
    "\n",
    "model_p2.trainable_variables\n"
   ]
  },
  {
   "cell_type": "code",
   "execution_count": 50,
   "id": "60effd71",
   "metadata": {},
   "outputs": [
    {
     "name": "stdout",
     "output_type": "stream",
     "text": [
      "\n",
      " Test accuracy:  0.9161999821662903\n"
     ]
    }
   ],
   "source": [
    "#Test accuracy\n",
    "score = model_p2.evaluate(xTest, yTest, verbose = 0)\n",
    "print('\\n', 'Test accuracy: ', score[1])"
   ]
  },
  {
   "cell_type": "code",
   "execution_count": 53,
   "id": "346539d3",
   "metadata": {},
   "outputs": [
    {
     "name": "stdout",
     "output_type": "stream",
     "text": [
      "1/1 [==============================] - 0s 15ms/step\n",
      "[3.3310093e-12 1.9235139e-19 5.0639418e-14 1.6371341e-14 7.1424300e-15\n",
      " 1.6809189e-11 1.6845696e-13 1.0000000e+00 1.4049499e-12 9.4282771e-15]\n"
     ]
    }
   ],
   "source": [
    "# predicting 1 random sample test data to compare later with numpy forward propagation\n",
    "yhat1 = model_p2.predict(xTest[998:999,:,:,:])[0]\n",
    "print(yhat1)"
   ]
  },
  {
   "cell_type": "code",
   "execution_count": 17,
   "id": "0744cf0a",
   "metadata": {},
   "outputs": [],
   "source": [
    "# Define the text labels\n",
    "fashion_mnist_labels = [\"T-shirt/top\",  # index 0\n",
    "                        \"Trouser\",      # index 1\n",
    "                        \"Pullover\",     # index 2 \n",
    "                        \"Dress\",        # index 3 \n",
    "                        \"Coat\",         # index 4\n",
    "                        \"Sandal\",       # index 5\n",
    "                        \"Shirt\",        # index 6 \n",
    "                        \"Sneaker\",      # index 7 \n",
    "                        \"Bag\",          # index 8 \n",
    "                        \"Ankle boot\"]   # index 9\n"
   ]
  },
  {
   "cell_type": "code",
   "execution_count": 18,
   "id": "0d91651f",
   "metadata": {},
   "outputs": [
    {
     "data": {
      "image/png": "[encoded data removed]",
      "text/plain": [
       "<Figure size 1440x576 with 15 Axes>"
      ]
     },
     "metadata": {},
     "output_type": "display_data"
    }
   ],
   "source": [
    "# Plot a random sample of 10 test images, their predicted labels and ground truth\n",
    "figure = plt.figure(figsize=(20, 8))\n",
    "for i, index in enumerate(np.random.choice(xTest.shape[0], size=15, replace=False)):\n",
    "    ax = figure.add_subplot(3, 5, i + 1, xticks=[], yticks=[])\n",
    "    # Display each image\n",
    "    ax.imshow(np.squeeze(xTest[index]))\n",
    "    predict_index = np.argmax(yhat[index])\n",
    "    true_index = np.argmax(yhat[index])\n",
    "    # Set the title for each image\n",
    "    ax.set_title(\"{} ({})\".format(fashion_mnist_labels[predict_index], \n",
    "                                  fashion_mnist_labels[true_index]),\n",
    "                                  color=(\"green\" if predict_index == true_index else \"red\"))"
   ]
  },
  {
   "cell_type": "code",
   "execution_count": 54,
   "id": "6f62cb84",
   "metadata": {},
   "outputs": [
    {
     "name": "stdout",
     "output_type": "stream",
     "text": [
      "layer [0] weights [<tf.Variable 'conv2d_6/kernel:0' shape=(3, 3, 1, 64) dtype=float32, numpy=\n",
      "array([[[[-1.04539253e-01,  2.70383537e-01, -5.85448742e-01,\n",
      "           1.27387978e-03,  1.48736566e-01,  9.87166017e-02,\n",
      "           2.23625019e-01,  1.60570256e-02, -6.83005452e-02,\n",
      "          -1.17079116e-01, -1.27366766e-01, -6.93736494e-01,\n",
      "           2.85533797e-02,  7.56675079e-02,  1.41028449e-01,\n",
      "          -6.45112991e-02,  7.25964233e-02, -1.50383025e-01,\n",
      "          -2.41791382e-01,  1.07670926e-01,  1.00644134e-01,\n",
      "          -2.26527303e-01, -2.18907714e-01,  1.47401914e-01,\n",
      "          -8.88943970e-02,  2.32141867e-01,  3.34302373e-02,\n",
      "          -4.50114384e-02,  7.97282606e-02, -6.48149699e-02,\n",
      "           2.69812614e-01, -1.89837888e-02, -4.16925430e-01,\n",
      "           1.42986387e-01, -1.40786558e-01,  4.78445925e-02,\n",
      "          -1.88920572e-01, -1.79903314e-01,  9.55820456e-03,\n",
      "          -7.44555816e-02, -9.50874388e-02, -1.75591633e-01,\n",
      "          -2.18720898e-01, -8.32436308e-02,  2.42846478e-02,\n",
      "           1.56584769e-01,  4.73731458e-02,  1.73621550e-01,\n",
      "          -9.07960236e-02, -1.18099160e-01, -1.37731835e-01,\n",
      "          -3.38331014e-02,  2.22221896e-01, -8.30934718e-02,\n",
      "           3.58152539e-01, -4.06484157e-02, -2.52211571e-01,\n",
      "          -1.40339077e-01,  9.72249657e-02,  2.36435384e-01,\n",
      "           1.10893957e-01, -5.71058318e-02, -9.04670637e-03,\n",
      "           1.78491339e-01]],\n",
      "\n",
      "        [[ 7.98137188e-02, -3.03125262e-01,  2.21286014e-01,\n",
      "           1.49150342e-01,  8.41734931e-02, -1.12536666e-03,\n",
      "          -1.96325764e-01,  2.89241701e-01,  5.70406355e-02,\n",
      "          -4.24551666e-02,  9.78301242e-02, -9.47674692e-01,\n",
      "          -3.33518311e-02, -4.46854860e-01,  1.73758566e-01,\n",
      "           5.72344996e-02, -2.34773889e-01, -1.14645086e-01,\n",
      "          -7.21183196e-02, -8.78676921e-02, -2.84887671e-01,\n",
      "          -2.03986213e-01,  1.48810595e-01, -1.75855502e-01,\n",
      "           1.08762145e-01, -8.61674100e-02,  1.40859066e-02,\n",
      "          -1.34615704e-01, -1.76124498e-01, -2.80405968e-01,\n",
      "          -1.04697961e-02, -2.65149698e-02,  1.12499230e-01,\n",
      "           2.45899990e-01, -2.75103569e-01, -1.38895765e-01,\n",
      "           3.01734507e-01,  1.54204577e-01,  2.69652903e-01,\n",
      "          -9.41833630e-02, -9.31027830e-02,  2.69045025e-01,\n",
      "          -9.10272121e-01, -1.73608810e-01, -6.98623508e-02,\n",
      "           3.15917842e-02,  1.11799855e-02, -3.04511189e-01,\n",
      "           2.16929644e-01, -5.73328912e-01, -3.03876162e-01,\n",
      "           1.28713027e-01,  1.71299413e-01, -1.72889873e-01,\n",
      "           3.53647955e-02,  1.40868807e-02,  2.20925704e-01,\n",
      "          -1.63413063e-01, -8.37401580e-03, -1.62384048e-01,\n",
      "           6.16222695e-02, -2.36502327e-02,  2.03164935e-01,\n",
      "           4.11867276e-02]],\n",
      "\n",
      "        [[ 9.84668881e-02, -2.29814932e-01,  3.32600951e-01,\n",
      "          -1.63152888e-01,  1.32213801e-01, -9.38783437e-02,\n",
      "          -4.09106072e-03, -3.43671590e-01,  5.53652868e-02,\n",
      "           1.20102771e-01,  1.91536963e-01, -8.77990797e-02,\n",
      "          -6.48796782e-02, -4.71227974e-01, -1.64326712e-01,\n",
      "           2.32990980e-02,  1.28495768e-02,  2.24602073e-01,\n",
      "          -7.51961291e-01,  8.69814306e-02,  2.26231337e-01,\n",
      "           1.48160458e-01,  1.58284113e-01,  1.76902160e-01,\n",
      "           1.35528654e-01, -1.89092174e-01,  5.70148341e-02,\n",
      "           1.50355816e-01,  9.47775543e-02, -3.60118449e-02,\n",
      "          -2.73792535e-01, -6.01686537e-02, -1.36822864e-01,\n",
      "          -3.08668554e-01,  4.98666435e-01,  7.12039322e-02,\n",
      "          -1.22323215e-01, -2.86729008e-01, -1.35956198e-01,\n",
      "           7.41403848e-02, -2.63573647e-01, -2.57837236e-01,\n",
      "          -1.19739577e-01,  1.32981524e-01, -2.95429140e-01,\n",
      "          -2.76819170e-01,  3.62487114e-03,  1.98805541e-01,\n",
      "          -1.07702158e-01, -4.42689747e-01,  3.40975583e-01,\n",
      "           5.52680977e-02, -3.12990487e-01, -1.67297363e-01,\n",
      "          -8.17269310e-02,  5.63002452e-02, -3.87645572e-01,\n",
      "           2.33081594e-01, -8.24792907e-02,  1.26629267e-02,\n",
      "          -1.45036906e-01, -5.07428199e-02, -3.55276555e-01,\n",
      "           2.98833977e-02]]],\n",
      "\n",
      "\n",
      "       [[[ 2.04354689e-01, -1.27406657e-01, -2.69682296e-02,\n",
      "          -7.30314180e-02, -3.48010957e-02, -2.15205938e-01,\n",
      "           1.28702283e-01,  1.89795643e-01, -2.33836681e-01,\n",
      "          -3.68902436e-03,  2.15769857e-01, -4.04615663e-02,\n",
      "          -7.43641034e-02, -5.65179586e-02,  2.24851727e-01,\n",
      "          -1.62624553e-01,  1.40288144e-01, -4.06042859e-02,\n",
      "          -2.07867827e-02, -8.56570080e-02, -1.56522557e-01,\n",
      "          -2.21919015e-01,  3.41683686e-01,  1.08034447e-01,\n",
      "          -2.03528821e-01,  3.15216668e-02, -1.14115112e-01,\n",
      "           1.73812017e-01, -7.13939453e-03, -1.55855596e-01,\n",
      "           1.37054063e-02, -9.75930989e-02, -1.69240937e-01,\n",
      "          -2.27548070e-02, -2.98619032e-01,  5.63287437e-02,\n",
      "          -1.03000149e-01, -1.07404135e-01, -3.18818577e-02,\n",
      "           1.19652100e-01,  3.42348181e-02, -3.03382017e-02,\n",
      "          -7.92044252e-02,  1.02804013e-01, -8.71142298e-02,\n",
      "          -2.05382064e-01,  1.16099818e-02,  2.54290365e-02,\n",
      "           1.26885563e-01, -1.95393935e-01,  3.34593914e-02,\n",
      "          -5.21133900e-01, -1.70668378e-01, -7.31730834e-02,\n",
      "           5.66331372e-02, -6.64612558e-03,  1.74538583e-01,\n",
      "           2.21887425e-01, -1.11437872e-01, -2.15980902e-01,\n",
      "          -1.74474820e-01, -7.05049336e-02, -3.54495108e-01,\n",
      "           9.07237455e-02]],\n",
      "\n",
      "        [[ 1.15086660e-01,  1.29836231e-01,  4.56679836e-02,\n",
      "           1.48083806e-01, -9.06366706e-02,  2.97531456e-01,\n",
      "          -1.26992971e-01, -1.68658912e-01,  2.78703362e-01,\n",
      "          -2.42661431e-01, -8.92984197e-02,  1.61431043e-03,\n",
      "           1.13902293e-01, -3.23275238e-01, -2.81487614e-01,\n",
      "           1.62179247e-01,  4.17720079e-02,  1.66548818e-01,\n",
      "          -1.28069222e-01, -1.74857043e-02,  1.91705361e-01,\n",
      "           2.20777348e-01, -8.01517516e-02,  3.88904139e-02,\n",
      "           6.54956251e-02,  4.53470424e-02, -7.18250722e-02,\n",
      "          -4.06041555e-02,  4.35227808e-03,  2.86271125e-01,\n",
      "          -2.52146333e-01,  1.01098314e-01,  2.61461079e-01,\n",
      "          -3.91397141e-02, -3.18484724e-01, -1.00957058e-01,\n",
      "           4.01181012e-01,  2.49010265e-01, -1.03054658e-01,\n",
      "           1.55586302e-01,  1.90160587e-01, -6.60069510e-02,\n",
      "          -5.65045834e-01,  9.30077061e-02,  2.72325754e-01,\n",
      "           3.31372052e-01,  2.53749609e-01, -1.41591579e-01,\n",
      "           3.03103551e-02, -2.10899338e-01,  1.00942291e-01,\n",
      "           2.58523077e-02,  1.23325594e-01, -1.74700357e-02,\n",
      "          -4.33535039e-01, -1.82802215e-01, -7.06659863e-03,\n",
      "          -2.68795043e-01,  2.04992726e-01, -8.96752924e-02,\n",
      "          -8.32698867e-02,  1.77074841e-03,  1.53542161e-01,\n",
      "          -3.03895086e-01]],\n",
      "\n",
      "        [[-2.52727214e-02,  2.87828177e-01,  3.56360525e-02,\n",
      "          -6.79735690e-02, -1.18104421e-01, -1.05093278e-01,\n",
      "          -4.29003593e-03,  2.55775392e-01, -8.20549950e-02,\n",
      "          -3.00649762e-01, -1.33103192e-01,  1.84504464e-01,\n",
      "          -3.30560595e-01, -4.69463468e-01,  9.12631303e-03,\n",
      "           2.39326395e-02, -1.56602725e-01,  8.46628472e-03,\n",
      "          -2.36078814e-01, -2.10557833e-01, -6.97931722e-02,\n",
      "           1.09438315e-01, -2.88498372e-01, -2.06515595e-01,\n",
      "           1.31964162e-01, -1.75715256e-02,  1.64257780e-01,\n",
      "           1.40788540e-01,  9.18130800e-02, -7.46122450e-02,\n",
      "          -4.50486094e-02, -1.19530223e-01, -2.64318705e-01,\n",
      "          -5.40053666e-01, -2.62823164e-01, -3.74879390e-02,\n",
      "          -3.23408663e-01, -1.52046904e-01, -3.71377617e-01,\n",
      "           5.08776642e-02, -7.69910440e-02,  1.57100543e-01,\n",
      "          -6.44387126e-01, -2.50316530e-01,  2.22297028e-01,\n",
      "           3.19027863e-02, -2.48548403e-01, -8.41144025e-02,\n",
      "          -1.57133028e-01, -6.01492107e-01, -3.02068084e-01,\n",
      "           6.04364499e-02, -1.74082637e-01,  1.64858550e-01,\n",
      "          -1.91948056e-01,  2.04286844e-01,  4.51336764e-02,\n",
      "           1.28881529e-01, -9.53026209e-03,  3.11935041e-03,\n",
      "           2.95752645e-01, -6.93845078e-02,  1.27447203e-01,\n",
      "           1.92821659e-02]]],\n",
      "\n",
      "\n",
      "       [[[-1.07655436e-01, -3.27745944e-01,  1.06405385e-01,\n",
      "          -2.82815039e-01, -1.22744367e-01,  1.19986363e-01,\n",
      "           1.64419541e-03, -1.22440876e-02,  2.80239820e-01,\n",
      "           2.26904601e-01,  5.25429100e-02,  2.81650037e-01,\n",
      "          -3.40368301e-01,  1.90052062e-01, -2.34271362e-01,\n",
      "          -1.19288675e-01, -2.80808389e-01,  5.05739972e-02,\n",
      "           2.33175993e-01, -2.33994704e-02,  3.46394256e-02,\n",
      "           1.39083967e-01, -1.26729742e-01, -2.40347400e-01,\n",
      "           2.35515833e-01, -2.81918198e-01, -8.49349499e-02,\n",
      "           1.78262349e-02,  7.58326948e-02,  1.33127898e-01,\n",
      "          -2.83969909e-01, -1.29627660e-01,  7.39956945e-02,\n",
      "           2.09811963e-02,  3.06724846e-01, -2.87204292e-02,\n",
      "          -1.35398850e-01, -1.39284611e-01,  1.20146438e-01,\n",
      "           1.03043811e-02,  2.62188856e-02,  1.51045844e-01,\n",
      "           2.72911340e-01, -2.21706018e-01,  4.34508584e-02,\n",
      "          -1.90707773e-01, -9.62051973e-02, -4.02414240e-02,\n",
      "           2.67832447e-02,  3.20304573e-01,  6.38262779e-02,\n",
      "          -2.05959171e-01, -3.24692339e-01, -9.41229016e-02,\n",
      "          -3.05910647e-01, -4.39723805e-02,  1.49547920e-01,\n",
      "           1.51100770e-01, -1.36544719e-01,  1.41624166e-02,\n",
      "           1.66488841e-01,  3.03327502e-03, -1.22338675e-01,\n",
      "          -5.19416928e-02]],\n",
      "\n",
      "        [[-2.67681777e-01,  1.27143472e-01, -5.12334526e-01,\n",
      "           2.40823835e-01, -2.45217904e-02, -2.81799316e-01,\n",
      "           3.26082408e-02, -4.12126392e-01, -2.70733535e-01,\n",
      "           2.60471106e-01, -1.29068971e-01, -1.08537991e-02,\n",
      "           2.21641272e-01,  5.75980060e-02, -2.24694222e-01,\n",
      "           1.19556278e-01,  1.38277737e-02, -1.14898048e-02,\n",
      "           7.13360533e-02, -1.10397443e-01,  8.46047178e-02,\n",
      "          -6.03992306e-02, -1.05105564e-02,  1.15500562e-01,\n",
      "           8.75535011e-02,  5.37374541e-02,  4.49949987e-02,\n",
      "          -1.89666033e-01, -1.26778811e-01,  6.18911833e-02,\n",
      "           2.77749509e-01,  6.99956417e-02,  2.17294574e-01,\n",
      "          -2.39827126e-01, -1.96545631e-01, -1.29268512e-01,\n",
      "          -5.49329370e-02,  1.10308424e-01, -1.88273326e-01,\n",
      "          -2.42571443e-01,  1.35204745e-02, -2.19509333e-01,\n",
      "          -9.36881676e-02,  1.50024623e-01, -2.57698774e-01,\n",
      "          -2.08650604e-02, -1.93458900e-01,  2.66805649e-01,\n",
      "           1.07451297e-01,  1.67483941e-01, -9.07651335e-03,\n",
      "           1.75066963e-01, -4.73525412e-02, -5.40760122e-02,\n",
      "          -8.64279330e-01, -4.12146188e-02, -1.69257790e-01,\n",
      "           1.18862409e-02,  5.60788028e-02,  2.61565000e-02,\n",
      "          -3.91704179e-02,  4.10323814e-02, -3.15097600e-01,\n",
      "          -4.39159311e-02]],\n",
      "\n",
      "        [[-1.22959130e-01, -4.89691570e-02, -4.19437855e-01,\n",
      "          -1.70031026e-01, -1.37093365e-02,  1.92642301e-01,\n",
      "          -2.81166267e-02,  7.79779479e-02, -5.42318784e-02,\n",
      "           9.72284898e-02, -1.44450054e-01, -1.25362784e-01,\n",
      "          -7.44629651e-03,  6.22148104e-02,  2.40416765e-01,\n",
      "           9.63567663e-03,  2.66970433e-02, -1.10663556e-01,\n",
      "           6.30966350e-02,  1.51801854e-01, -1.34754136e-01,\n",
      "          -1.83401391e-01,  9.14402381e-02,  2.02949643e-02,\n",
      "          -3.19734126e-01,  1.79969773e-01, -8.69338110e-04,\n",
      "          -9.37313288e-02,  6.17115237e-02, -1.40660733e-01,\n",
      "          -2.65209615e-01, -7.37412870e-02, -1.33793131e-01,\n",
      "          -4.51892614e-01, -3.57809126e-01, -2.76434096e-03,\n",
      "          -4.73640680e-01,  1.82791129e-02, -5.35305738e-02,\n",
      "          -2.42722407e-01, -4.86744158e-02,  1.10885799e-01,\n",
      "          -1.61681771e-01,  3.68864015e-02,  1.95788089e-02,\n",
      "           7.26867691e-02,  2.39981264e-01, -1.56215057e-02,\n",
      "          -1.30839184e-01, -8.26237798e-02, -6.78446591e-02,\n",
      "          -2.21306607e-01,  1.84036121e-01,  1.37654096e-01,\n",
      "          -5.74676096e-01,  8.12531188e-02,  3.20183784e-02,\n",
      "          -7.05062747e-02,  4.09741551e-02,  3.40416580e-02,\n",
      "          -1.38031930e-01, -2.02040579e-02,  2.80034304e-01,\n",
      "           1.84004992e-01]]]], dtype=float32)>, <tf.Variable 'conv2d_6/bias:0' shape=(64,) dtype=float32, numpy=\n",
      "array([-0.00628439, -0.01333905, -0.00578913, -0.00152837, -0.0241125 ,\n",
      "       -0.05209914, -0.00928467, -0.09956238, -0.03857973, -0.05009369,\n",
      "       -0.12839942, -0.00610118, -0.01909394, -0.01591574, -0.04297633,\n",
      "       -0.02286067, -0.06439022, -0.08611035, -0.00364615, -0.05945806,\n",
      "       -0.02946369, -0.04256488, -0.06269021, -0.05245214, -0.15660329,\n",
      "       -0.02293059, -0.10904637, -0.08176739, -0.12869747, -0.02974479,\n",
      "       -0.00526689, -0.12967849, -0.00529252, -0.01139656,  0.0123989 ,\n",
      "       -0.1387998 , -0.00671441, -0.00599215, -0.07006633, -0.04339365,\n",
      "       -0.01919934, -0.03841746,  0.01799911, -0.04459801, -0.02028557,\n",
      "       -0.0528242 , -0.0419076 , -0.12787703, -0.01152201, -0.00934515,\n",
      "       -0.00817028, -0.04479659, -0.00157828, -0.00526469, -0.00538715,\n",
      "       -0.01523667, -0.07429332, -0.14298713, -0.08774552, -0.08832082,\n",
      "       -0.02073002, -0.08418756, -0.02204933, -0.14528911], dtype=float32)>]\n",
      "layer [1] weights []\n",
      "layer [2] weights []\n",
      "layer [3] weights []\n",
      "layer [4] weights [<tf.Variable 'dense_6/kernel:0' shape=(10816, 1024) dtype=float32, numpy=\n",
      "array([[ 0.02578864,  0.0799867 ,  0.0159096 , ..., -0.02007268,\n",
      "        -0.00112231,  0.07257842],\n",
      "       [ 0.00861565,  0.02913255,  0.36496443, ...,  0.13178273,\n",
      "         0.00976327,  0.05715549],\n",
      "       [-0.01033283, -0.08180863,  0.07540556, ..., -0.02483858,\n",
      "        -0.01165787,  0.01872236],\n",
      "       ...,\n",
      "       [-0.00720536,  0.01344714, -0.01570717, ...,  0.00499905,\n",
      "         0.00073264,  0.01382438],\n",
      "       [ 0.02052257, -0.12647843, -0.00120037, ..., -0.11330252,\n",
      "        -0.00248957,  0.0445304 ],\n",
      "       [ 0.01672242,  0.04657477,  0.01185608, ..., -0.05119917,\n",
      "        -0.01739478, -0.0253225 ]], dtype=float32)>, <tf.Variable 'dense_6/bias:0' shape=(1024,) dtype=float32, numpy=\n",
      "array([-0.10167054, -0.03806736, -0.02378825, ..., -0.05642297,\n",
      "       -0.00602304, -0.05120328], dtype=float32)>]\n",
      "layer [5] weights []\n",
      "layer [6] weights [<tf.Variable 'dense_7/kernel:0' shape=(1024, 10) dtype=float32, numpy=\n",
      "array([[ 0.12224665, -0.2012665 , -0.07757136, ..., -0.07024854,\n",
      "        -0.1981768 , -0.06040149],\n",
      "       [-0.1161801 ,  0.01553887,  0.06856077, ..., -0.11276833,\n",
      "        -0.15271522, -0.09900316],\n",
      "       [ 0.15870231, -0.35278258, -0.11353426, ..., -0.06940254,\n",
      "         0.02393151, -0.16541965],\n",
      "       ...,\n",
      "       [-0.30434215, -0.2933846 , -0.4723946 , ..., -0.18385026,\n",
      "         0.15600294, -0.03801696],\n",
      "       [ 0.00473606,  0.00939134, -0.00811501, ..., -0.02355061,\n",
      "         0.03582275, -0.00209192],\n",
      "       [ 0.04974763, -0.24508607, -0.39704847, ...,  0.05316511,\n",
      "        -0.01251137, -0.29444087]], dtype=float32)>, <tf.Variable 'dense_7/bias:0' shape=(10,) dtype=float32, numpy=\n",
      "array([-0.0722294 , -0.11927673,  0.04637247,  0.06990504, -0.01890525,\n",
      "       -0.09533288,  0.03487135,  0.03717446, -0.0785021 , -0.01704174],\n",
      "      dtype=float32)>]\n",
      "layer [7] weights []\n"
     ]
    }
   ],
   "source": [
    "'''\n",
    "2. Extract the weights from the model after training it. See model.summary() and model.trainable variables,\n",
    "where model is the TensorFlow model you trained.\n",
    "'''\n",
    "for layer in range(len(model_p2.layers)):\n",
    "    print(\"layer\", [layer], \"weights\", model_p2.layers[layer].weights)\n",
    "    # model_p2.layers[layer].weights\n",
    "    \n",
    "# print(\"layer 1 weights\", model_p2.layers[0].weights)\n",
    "# print(\"layer 2 weights\", model_p2.layers[1].weights)\n",
    "# print(\"layer 3 weights\", model_p2.layers[2].weights)\n",
    "\n"
   ]
  },
  {
   "cell_type": "code",
   "execution_count": 55,
   "id": "4de4d422",
   "metadata": {},
   "outputs": [],
   "source": [
    "def extract_w_b(model):\n",
    "    # Extract W1, b1, W2, b2, W3, b3 from model.\n",
    "\n",
    "    img_sz = 28\n",
    "    filter_sz = 3\n",
    "    channels = 64\n",
    "    W1 = np.zeros((channels*(img_sz-2)*(img_sz-2), img_sz*img_sz))\n",
    "    b1 = np.zeros((channels*(img_sz-2)*(img_sz-2)))\n",
    "    start = 0\n",
    "    convolution_weights = np.array(model_p2.get_weights()[0]) # 3x3x1x64\n",
    "    convolution_bias = np.array(model.get_weights()[1]) # 64x1\n",
    "    for rows in range(img_sz-2):\n",
    "        for column in range(img_sz-2):\n",
    "            for filter in range(channels):\n",
    "                for depth in range(filter_sz):\n",
    "                    start_ind = (rows + depth)*img_sz + column\n",
    "                    stop_ind = start_ind + filter_sz\n",
    "                    W1[start, start_ind:stop_ind] = convolution_weights[depth,:,0,filter]\n",
    "                    b1[start] = convolution_bias[filter]\n",
    "                start = start + 1\n",
    "\n",
    "    b1 = np.atleast_2d(b1).T\n",
    "    W2 = model.get_weights()[2].T\n",
    "    b2 = np.atleast_2d(model.get_weights()[3]).T\n",
    "    W3 = model.get_weights()[4].T\n",
    "    b3 = np.atleast_2d(model.get_weights()[5]).T\n",
    "    \n",
    "    return W1, b1, W2, b2, W3, b3\n",
    "    \n"
   ]
  },
  {
   "cell_type": "code",
   "execution_count": 56,
   "id": "d4decc03",
   "metadata": {},
   "outputs": [
    {
     "data": {
      "text/plain": [
       "(array([[-0.10453925,  0.07981372,  0.09846689, ...,  0.        ,\n",
       "          0.        ,  0.        ],\n",
       "        [ 0.27038354, -0.30312526, -0.22981493, ...,  0.        ,\n",
       "          0.        ,  0.        ],\n",
       "        [-0.58544874,  0.22128601,  0.33260095, ...,  0.        ,\n",
       "          0.        ,  0.        ],\n",
       "        ...,\n",
       "        [ 0.        ,  0.        ,  0.        , ...,  0.00303328,\n",
       "          0.04103238, -0.02020406],\n",
       "        [ 0.        ,  0.        ,  0.        , ..., -0.12233867,\n",
       "         -0.3150976 ,  0.2800343 ],\n",
       "        [ 0.        ,  0.        ,  0.        , ..., -0.05194169,\n",
       "         -0.04391593,  0.18400499]]),\n",
       " array([[-0.00628439],\n",
       "        [-0.01333905],\n",
       "        [-0.00578913],\n",
       "        ...,\n",
       "        [-0.08418756],\n",
       "        [-0.02204933],\n",
       "        [-0.14528911]]),\n",
       " array([[ 0.02578864,  0.00861565, -0.01033283, ..., -0.00720536,\n",
       "          0.02052257,  0.01672242],\n",
       "        [ 0.0799867 ,  0.02913255, -0.08180863, ...,  0.01344714,\n",
       "         -0.12647843,  0.04657477],\n",
       "        [ 0.0159096 ,  0.36496443,  0.07540556, ..., -0.01570717,\n",
       "         -0.00120037,  0.01185608],\n",
       "        ...,\n",
       "        [-0.02007268,  0.13178273, -0.02483858, ...,  0.00499905,\n",
       "         -0.11330252, -0.05119917],\n",
       "        [-0.00112231,  0.00976327, -0.01165787, ...,  0.00073264,\n",
       "         -0.00248957, -0.01739478],\n",
       "        [ 0.07257842,  0.05715549,  0.01872236, ...,  0.01382438,\n",
       "          0.0445304 , -0.0253225 ]], dtype=float32),\n",
       " array([[-0.10167054],\n",
       "        [-0.03806736],\n",
       "        [-0.02378825],\n",
       "        ...,\n",
       "        [-0.05642297],\n",
       "        [-0.00602304],\n",
       "        [-0.05120328]], dtype=float32),\n",
       " array([[ 0.12224665, -0.1161801 ,  0.15870231, ..., -0.30434215,\n",
       "          0.00473606,  0.04974763],\n",
       "        [-0.2012665 ,  0.01553887, -0.35278258, ..., -0.2933846 ,\n",
       "          0.00939134, -0.24508607],\n",
       "        [-0.07757136,  0.06856077, -0.11353426, ..., -0.4723946 ,\n",
       "         -0.00811501, -0.39704847],\n",
       "        ...,\n",
       "        [-0.07024854, -0.11276833, -0.06940254, ..., -0.18385026,\n",
       "         -0.02355061,  0.05316511],\n",
       "        [-0.1981768 , -0.15271522,  0.02393151, ...,  0.15600294,\n",
       "          0.03582275, -0.01251137],\n",
       "        [-0.06040149, -0.09900316, -0.16541965, ..., -0.03801696,\n",
       "         -0.00209192, -0.29444087]], dtype=float32),\n",
       " array([[-0.0722294 ],\n",
       "        [-0.11927673],\n",
       "        [ 0.04637247],\n",
       "        [ 0.06990504],\n",
       "        [-0.01890525],\n",
       "        [-0.09533288],\n",
       "        [ 0.03487135],\n",
       "        [ 0.03717446],\n",
       "        [-0.0785021 ],\n",
       "        [-0.01704174]], dtype=float32))"
      ]
     },
     "execution_count": 56,
     "metadata": {},
     "output_type": "execute_result"
    }
   ],
   "source": [
    "extract_w_b(model_p2)"
   ]
  },
  {
   "cell_type": "code",
   "execution_count": 57,
   "id": "e84e35dd",
   "metadata": {},
   "outputs": [],
   "source": [
    "def fully_connected(W, b, x):\n",
    "    h = np.dot(W,x)+b\n",
    "    return h"
   ]
  },
  {
   "cell_type": "code",
   "execution_count": 58,
   "id": "c2d41d9e",
   "metadata": {},
   "outputs": [],
   "source": [
    "def max_pooling(x, poolingWidth):\n",
    "    M, N, P = x.shape\n",
    "  \n",
    "    K = poolingWidth[0]\n",
    "    L = poolingWidth[1]\n",
    "\n",
    "    MK = M // K\n",
    "    NL = N // L\n",
    "    return (x[:MK*K, :NL*L, ...].reshape((MK, K, NL, L) + x.shape[2:]).max(axis=(1, 3)))"
   ]
  },
  {
   "cell_type": "code",
   "execution_count": 59,
   "id": "b3866cc9",
   "metadata": {},
   "outputs": [],
   "source": [
    "def softmax(x):\n",
    "    num = np.exp(x - np.max(x))\n",
    "    deno = np.sum(num)\n",
    "    y_hat = (num/(deno))\n",
    "    return y_hat\n"
   ]
  },
  {
   "cell_type": "code",
   "execution_count": 60,
   "id": "20bb28f2",
   "metadata": {},
   "outputs": [],
   "source": [
    "def relu(x):\n",
    "    return np.maximum(x,0)"
   ]
  },
  {
   "cell_type": "code",
   "execution_count": 61,
   "id": "9559ab2b",
   "metadata": {},
   "outputs": [],
   "source": [
    "def accuracy(y,y_hat):\n",
    "    #print(\"this is y\",y.shape)\n",
    "    #print(\"this is yhat\", yhat.shape)\n",
    "    y = np.atleast_2d(np.argmax(y,axis=0)).T\n",
    "    y_hat = np.atleast_2d(np.argmax(y_hat,axis=0)).T\n",
    "    accu = 100*np.sum(np.equal(y,y_hat))/y.shape[0]\n",
    "    return accu"
   ]
  },
  {
   "cell_type": "code",
   "execution_count": 63,
   "id": "bc9b7643",
   "metadata": {},
   "outputs": [],
   "source": [
    "W1, b1, W2, b2, W3, b3 = extract_w_b(model_p2)\n",
    "dim = np.reshape(xTest[998],(-1,1))\n",
    "h1 = fully_connected(W1, b1, dim)\n",
    "#print(\"H1 :\", h1.shape)\n",
    "h10 = h1.reshape(26,26,64)\n",
    "h11 = max_pooling(h10, poolingWidth=(2,2))\n",
    "#print(\"After MaxPooling :\", h11.shape)\n",
    "h12 = relu(h11)\n",
    "#print(\"1st ReLU:\", h12.shape)\n",
    "h13 = np.atleast_2d(h12.flatten()).T\n",
    "#print(\"After Flattening :\", h13.shape)\n",
    "h2 = fully_connected(W2, b2, h13)\n",
    "#print(\"Dense_1 :\", h2.shape)\n",
    "h21 = relu(h2)\n",
    "#print(\"2nd ReLU :\", h21.shape)\n",
    "h3 = fully_connected (W3, b3, h21)\n",
    "#print(\"Dense_2 :\", h3.shape)\n"
   ]
  },
  {
   "cell_type": "code",
   "execution_count": 64,
   "id": "64537eee",
   "metadata": {},
   "outputs": [
    {
     "name": "stdout",
     "output_type": "stream",
     "text": [
      "[3.33100924e-12 1.92351659e-19 5.06393396e-14 1.63713661e-14\n",
      " 7.14242818e-15 1.68091697e-11 1.68456940e-13 1.00000000e+00\n",
      " 1.40494739e-12 9.42827208e-15]\n"
     ]
    }
   ],
   "source": [
    "# Working on the same test data xTest[998]\n",
    "\n",
    "yhat = softmax(h3)\n",
    "#print(yhat.Shape) \n",
    "yhat2 = yhat\n",
    "yhat2 = yhat.reshape(-1)\n",
    "print(yhat2)"
   ]
  },
  {
   "cell_type": "code",
   "execution_count": 66,
   "id": "24b0c8c8",
   "metadata": {},
   "outputs": [
    {
     "name": "stdout",
     "output_type": "stream",
     "text": [
      "This is from Tensorflow Model [3.3310093e-12 1.9235139e-19 5.0639418e-14 1.6371341e-14 7.1424300e-15\n",
      " 1.6809189e-11 1.6845696e-13 1.0000000e+00 1.4049499e-12 9.4282771e-15]\n",
      "This is from Numpy Model [3.33100924e-12 1.92351659e-19 5.06393396e-14 1.63713661e-14\n",
      " 7.14242818e-15 1.68091697e-11 1.68456940e-13 1.00000000e+00\n",
      " 1.40494739e-12 9.42827208e-15]\n",
      "This value shows similarity between two layers 100.0\n"
     ]
    }
   ],
   "source": [
    "print(\"This is from Tensorflow Model\",yhat1)\n",
    "print(\"This is from Numpy Model\", yhat2)\n",
    "\n",
    "print(\"This value shows similarity between two layers\",accuracy(yhat2,yhat1))"
   ]
  },
  {
   "cell_type": "code",
   "execution_count": 68,
   "id": "2da6470a",
   "metadata": {},
   "outputs": [
    {
     "data": {
      "image/png": "[encoded data removed]",
      "text/plain": [
       "<Figure size 432x288 with 1 Axes>"
      ]
     },
     "metadata": {
      "needs_background": "light"
     },
     "output_type": "display_data"
    }
   ],
   "source": [
    "plt.plot(yhat1, linewidth=10)\n",
    "plt.plot(yhat2, linewidth=3)\n",
    "plt.show()"
   ]
  },
  {
   "cell_type": "code",
   "execution_count": null,
   "id": "cf7562c3",
   "metadata": {},
   "outputs": [],
   "source": []
  }
 ],
 "metadata": {
  "kernelspec": {
   "display_name": "Python 3 (ipykernel)",
   "language": "python",
   "name": "python3"
  },
  "language_info": {
   "codemirror_mode": {
    "name": "ipython",
    "version": 3
   },
   "file_extension": ".py",
   "mimetype": "text/x-python",
   "name": "python",
   "nbconvert_exporter": "python",
   "pygments_lexer": "ipython3",
   "version": "3.8.10"
  },
  "vscode": {
   "interpreter": {
    "hash": "e7370f93d1d0cde622a1f8e1c04877d8463912d04d973331ad4851f04de6915a"
   }
  }
 },
 "nbformat": 4,
 "nbformat_minor": 5
}
